{
 "cells": [
  {
   "cell_type": "code",
   "execution_count": 31,
   "id": "81e81ec6",
   "metadata": {},
   "outputs": [],
   "source": [
    "from caldav import DAVClient\n",
    "from datetime import datetime, timedelta\n",
    "import uuid\n",
    "import os\n",
    "import pytz\n",
    "import icalendar\n"
   ]
  },
  {
   "cell_type": "code",
   "execution_count": 32,
   "id": "d9de5eb1",
   "metadata": {},
   "outputs": [],
   "source": [
    "# iCloud credentials\n",
    "\n",
    "\n",
    "CALDAV_USER = os.environ.get(\"username\")\n",
    "CALDAV_PASSWORD = os.environ.get(\"password_calendar\")  # Generate at appleid.apple.com\n",
    "CALDAV_URL = 'https://caldav.icloud.com'"
   ]
  },
  {
   "cell_type": "code",
   "execution_count": 33,
   "id": "58090aae",
   "metadata": {},
   "outputs": [
    {
     "name": "stdout",
     "output_type": "stream",
     "text": [
      "ok\n"
     ]
    }
   ],
   "source": [
    "if CALDAV_PASSWORD:\n",
    "    print(\"ok\")"
   ]
  },
  {
   "cell_type": "code",
   "execution_count": 34,
   "id": "9bd8c7dd",
   "metadata": {},
   "outputs": [],
   "source": [
    "client = DAVClient(url=CALDAV_URL,username=CALDAV_USER, password=CALDAV_PASSWORD)"
   ]
  },
  {
   "cell_type": "code",
   "execution_count": 35,
   "id": "9d67bbc6",
   "metadata": {},
   "outputs": [
    {
     "name": "stdout",
     "output_type": "stream",
     "text": [
      "Divers Serge et moi ⚠️\n",
      "https://p141-caldav.icloud.com:443/204582760/calendars/019FB7CD-FE20-45BE-86D3-D13F7C0DA9FE/\n",
      "Ipsos\n",
      "https://p141-caldav.icloud.com:443/204582760/calendars/4B95EA13-5EEF-478D-A252-4018832B3BED/\n",
      "Courses ⚠️\n",
      "https://p141-caldav.icloud.com:443/204582760/calendars/568DA36F-3B23-4D3E-AC94-4D7954794F94/\n",
      "Family\n",
      "https://p141-caldav.icloud.com:443/204582760/calendars/704982D2-C341-4BE5-AAA6-D6DB97E636F4/\n",
      "Family ⚠️\n",
      "https://p141-caldav.icloud.com:443/204582760/calendars/749aab08-5d80-4c99-9956-74e343801ae6/\n",
      "Taxes En 2021 ⚠️\n",
      "https://p141-caldav.icloud.com:443/204582760/calendars/78682584-E9EE-43E9-A25A-9A3FFD2B14D3/\n",
      "Ilana\n",
      "https://p141-caldav.icloud.com:443/204582760/calendars/8cb0d82d-5d57-439f-be4f-bc8f0f9a3e6d/\n",
      "Taxes en 2020 ⚠️\n",
      "https://p141-caldav.icloud.com:443/204582760/calendars/97C1AB15-8F94-468A-A9F9-67BA2F4D2FFE/\n",
      "Serge and Eve\n",
      "https://p141-caldav.icloud.com:443/204582760/calendars/C2813320-27E5-4774-A045-7C3B84578EB1/\n",
      "Ilana Eve ⚠️\n",
      "https://p141-caldav.icloud.com:443/204582760/calendars/CEE44147-8ECD-4CB8-968E-738B4E2CF6B5/\n",
      "Calendar\n",
      "https://p141-caldav.icloud.com:443/204582760/calendars/E0CF1EA7-7BA1-4ADD-886E-96391E23D627/\n",
      "Nouvelle maison ⚠️\n",
      "https://p141-caldav.icloud.com:443/204582760/calendars/E924F842-16C8-4514-9BB1-C83E63C9E8E8/\n",
      "Personnel\n",
      "https://p141-caldav.icloud.com:443/204582760/calendars/M2CD-1-1-45B64D01-D3AA-41E4-891E-4816B1755344/\n",
      "Reminders ⚠️\n",
      "https://p141-caldav.icloud.com:443/204582760/calendars/d02beaa2-f5d7-4112-877b-d34103efe7b9/\n"
     ]
    }
   ],
   "source": [
    "principal = client.principal()\n",
    "for cal in principal.calendars():\n",
    "    print(cal.name)\n",
    "    print(cal.url)"
   ]
  },
  {
   "cell_type": "code",
   "execution_count": 36,
   "id": "0dde3d8a",
   "metadata": {},
   "outputs": [],
   "source": [
    "my_calendar = principal.calendar(name=\"Family\")\n"
   ]
  },
  {
   "cell_type": "code",
   "execution_count": 15,
   "id": "515caf98",
   "metadata": {},
   "outputs": [],
   "source": [
    "calendars = principal.calendars()\n"
   ]
  },
  {
   "cell_type": "code",
   "execution_count": 12,
   "id": "04a0ee1e",
   "metadata": {},
   "outputs": [],
   "source": [
    "\n",
    "def print_calendars_demo(calendars):\n",
    "    \"\"\"\n",
    "    This example prints the name and URL for every calendar on the list\n",
    "    \"\"\"\n",
    "    if calendars:\n",
    "        ## Some calendar servers will include all calendars you have\n",
    "        ## access to in this list, and not only the calendars owned by\n",
    "        ## this principal.\n",
    "        print(\"your principal has %i calendars:\" % len(calendars))\n",
    "        for c in calendars:\n",
    "            print(\"    Name: %-36s  URL: %s\" % (c.name, c.url))\n",
    "    else:\n",
    "        print(\"your principal has no calendars\")\n"
   ]
  },
  {
   "cell_type": "code",
   "execution_count": 16,
   "id": "6edf38c3",
   "metadata": {},
   "outputs": [
    {
     "name": "stdout",
     "output_type": "stream",
     "text": [
      "your principal has 14 calendars:\n",
      "    Name: Divers Serge et moi ⚠️                URL: https://p141-caldav.icloud.com:443/204582760/calendars/019FB7CD-FE20-45BE-86D3-D13F7C0DA9FE/\n",
      "    Name: Ipsos                                 URL: https://p141-caldav.icloud.com:443/204582760/calendars/4B95EA13-5EEF-478D-A252-4018832B3BED/\n",
      "    Name: Courses ⚠️                            URL: https://p141-caldav.icloud.com:443/204582760/calendars/568DA36F-3B23-4D3E-AC94-4D7954794F94/\n",
      "    Name: Family                                URL: https://p141-caldav.icloud.com:443/204582760/calendars/704982D2-C341-4BE5-AAA6-D6DB97E636F4/\n",
      "    Name: Family ⚠️                             URL: https://p141-caldav.icloud.com:443/204582760/calendars/749aab08-5d80-4c99-9956-74e343801ae6/\n",
      "    Name: Taxes En 2021 ⚠️                      URL: https://p141-caldav.icloud.com:443/204582760/calendars/78682584-E9EE-43E9-A25A-9A3FFD2B14D3/\n",
      "    Name: Ilana                                 URL: https://p141-caldav.icloud.com:443/204582760/calendars/8cb0d82d-5d57-439f-be4f-bc8f0f9a3e6d/\n",
      "    Name: Taxes en 2020 ⚠️                      URL: https://p141-caldav.icloud.com:443/204582760/calendars/97C1AB15-8F94-468A-A9F9-67BA2F4D2FFE/\n",
      "    Name: Serge and Eve                         URL: https://p141-caldav.icloud.com:443/204582760/calendars/C2813320-27E5-4774-A045-7C3B84578EB1/\n",
      "    Name: Ilana Eve ⚠️                          URL: https://p141-caldav.icloud.com:443/204582760/calendars/CEE44147-8ECD-4CB8-968E-738B4E2CF6B5/\n",
      "    Name: Calendar                              URL: https://p141-caldav.icloud.com:443/204582760/calendars/E0CF1EA7-7BA1-4ADD-886E-96391E23D627/\n",
      "    Name: Nouvelle maison ⚠️                    URL: https://p141-caldav.icloud.com:443/204582760/calendars/E924F842-16C8-4514-9BB1-C83E63C9E8E8/\n",
      "    Name: Personnel                             URL: https://p141-caldav.icloud.com:443/204582760/calendars/M2CD-1-1-45B64D01-D3AA-41E4-891E-4816B1755344/\n",
      "    Name: Reminders ⚠️                          URL: https://p141-caldav.icloud.com:443/204582760/calendars/d02beaa2-f5d7-4112-877b-d34103efe7b9/\n"
     ]
    }
   ],
   "source": [
    "print_calendars_demo(calendars)"
   ]
  },
  {
   "cell_type": "code",
   "execution_count": 43,
   "id": "ba0353aa",
   "metadata": {},
   "outputs": [
    {
     "data": {
      "text/plain": [
       "Calendar(https://p141-caldav.icloud.com:443/204582760/calendars/704982D2-C341-4BE5-AAA6-D6DB97E636F4/)"
      ]
     },
     "execution_count": 43,
     "metadata": {},
     "output_type": "execute_result"
    }
   ],
   "source": [
    "cal = client.principal().calendars()[3]\n",
    "cal"
   ]
  },
  {
   "cell_type": "code",
   "execution_count": 21,
   "id": "e6f1b6b5",
   "metadata": {},
   "outputs": [
    {
     "name": "stdout",
     "output_type": "stream",
     "text": [
      "Event created: https://p141-caldav.icloud.com:443/204582760/calendars/704982D2-C341-4BE5-AAA6-D6DB97E636F4/95e9c0b6-af62-11f0-b9cc-76000d9f5468.ics\n"
     ]
    }
   ],
   "source": [
    "\n",
    "# Set timezone and create event\n",
    "mst = pytz.timezone('America/Denver')\n",
    "start = mst.localize(datetime(2025, 10, 22, 12, 0))\n",
    "end = mst.localize(datetime(2025, 10, 22, 13, 0))\n",
    "\n",
    "# Create event\n",
    "event = cal.save_event(\n",
    "    dtstart=start,\n",
    "    dtend=end,\n",
    "    summary=\"Meeting with Team\",\n",
    "    location=\"Conference Room A\",\n",
    "    description=\"Quarterly review\"\n",
    ")\n",
    "\n",
    "print(f\"Event created: {event.url}\")"
   ]
  },
  {
   "cell_type": "code",
   "execution_count": 44,
   "id": "fe0fb745",
   "metadata": {},
   "outputs": [],
   "source": [
    "# Dates pour la semaine à venir\n",
    "start_date = datetime.now()\n",
    "end_date = start_date + timedelta(days=7)\n"
   ]
  },
  {
   "cell_type": "code",
   "execution_count": 48,
   "id": "465c445e",
   "metadata": {},
   "outputs": [
    {
     "data": {
      "text/plain": [
       "Calendar(https://p141-caldav.icloud.com:443/204582760/calendars/704982D2-C341-4BE5-AAA6-D6DB97E636F4/)"
      ]
     },
     "execution_count": 48,
     "metadata": {},
     "output_type": "execute_result"
    }
   ],
   "source": [
    "calendar = client.principal().calendars()[3]\n",
    "calendar"
   ]
  },
  {
   "cell_type": "code",
   "execution_count": 53,
   "id": "704d38b1",
   "metadata": {},
   "outputs": [
    {
     "name": "stdout",
     "output_type": "stream",
     "text": [
      "Événement tennis trouvé: 🎾 Your Pickleball Appointments - 4 total\n",
      "Événement tennis trouvé: 🎾 Your Pickleball Appointments - 4 total\n",
      "Événement tennis trouvé: 🎾 Your Pickleball Appointments - 4 total\n"
     ]
    }
   ],
   "source": [
    "events = calendar.search(start=start_date, end=end_date)\n",
    "for event in events:\n",
    "   cal = icalendar.Calendar.from_ical(event.data)  # Parse les bytes vers objet Calendar\n",
    "   for component in cal.walk():\n",
    "      if component.name == \"VEVENT\":\n",
    "         summary = str(component.get('SUMMARY', ''))\n",
    "         # Vérifier si l'emoji tennis est présent\n",
    "         if '🎾' in summary:\n",
    "            print(f\"Événement tennis trouvé: {summary}\")\n",
    "\n",
    "\n",
    "\n"
   ]
  },
  {
   "cell_type": "code",
   "execution_count": 40,
   "id": "07203558",
   "metadata": {},
   "outputs": [],
   "source": [
    "cal = icalendar.Calendar.from_ical(event.data)  # Parse les bytes vers objet Calendar\n"
   ]
  },
  {
   "cell_type": "code",
   "execution_count": 41,
   "id": "bf257209",
   "metadata": {},
   "outputs": [
    {
     "data": {
      "text/plain": [
       "VCALENDAR({'CALSCALE': vText(b'GREGORIAN'), 'PRODID': vText(b'-//Apple Inc.//iPhone OS 18.5//EN'), 'VERSION': vText(b'2.0')}, VEVENT({'CREATED': vDDDTypes(2025-09-05 20:39:15+00:00, Parameters({})), 'DTEND': vDDDTypes(2025-10-07 15:15:00-06:00, Parameters({'TZID': 'America/Edmonton'})), 'DTSTAMP': vDDDTypes(2025-09-05 20:40:29+00:00, Parameters({})), 'DTSTART': vDDDTypes(2025-10-07 13:45:00-06:00, Parameters({'TZID': 'America/Edmonton'})), 'LAST-MODIFIED': vDDDTypes(2025-09-05 20:40:29+00:00, Parameters({})), 'RRULE': vRecur({'FREQ': ['WEEKLY'], 'UNTIL': [datetime.datetime(2025, 10, 28, 19, 45, tzinfo=zoneinfo.ZoneInfo(key='UTC'))]}), 'SEQUENCE': 2, 'SUMMARY': vText(b'Pickleball Lessons Confirmation'), 'UID': vText(b'2E15338E-27A5-4B46-9FF8-A49920EBC916'), 'URL': 'message:%3C0152861a30432310be4c033e4ae17212@mail.gmail.com%3E', 'X-APPLE-CREATOR-IDENTITY': vText(b'com.apple.datadetectors.DDActionsService'), 'X-APPLE-CREATOR-TEAM-IDENTITY': vText(b'0000000000'), 'TRANSP': vText(b'OPAQUE')}), VTIMEZONE({'TZID': vText(b'America/Edmonton'), 'X-LIC-LOCATION': vText(b'America/Edmonton')}, STANDARD({'DTSTART': vDDDTypes(1906-09-01 00:00:00, Parameters({})), 'RDATE': vDDDLists([vDDDTypes(1906-09-01 00:00:00, Parameters({}))]), 'TZNAME': vText(b'MST'), 'TZOFFSETFROM': vUTCOffset(datetime.timedelta(days=-1, seconds=59168)), 'TZOFFSETTO': vUTCOffset(datetime.timedelta(days=-1, seconds=61200))}), DAYLIGHT({'DTSTART': vDDDTypes(1918-04-14 02:00:00, Parameters({})), 'RRULE': vRecur({'FREQ': ['YEARLY'], 'UNTIL': [datetime.datetime(1919, 4, 13, 9, 0, tzinfo=zoneinfo.ZoneInfo(key='UTC'))], 'BYMONTH': [vMonth('4')], 'BYDAY': ['2SU']}), 'TZNAME': vText(b'MDT'), 'TZOFFSETFROM': vUTCOffset(datetime.timedelta(days=-1, seconds=61200)), 'TZOFFSETTO': vUTCOffset(datetime.timedelta(days=-1, seconds=64800))}), STANDARD({'DTSTART': vDDDTypes(1918-10-27 02:00:00, Parameters({})), 'RDATE': [vDDDLists([vDDDTypes(1918-10-27 02:00:00, Parameters({}))]), vDDDLists([vDDDTypes(1919-05-27 02:00:00, Parameters({}))]), vDDDLists([vDDDTypes(1920-10-31 02:00:00, Parameters({}))]), vDDDLists([vDDDTypes(1945-09-30 02:00:00, Parameters({}))]), vDDDLists([vDDDTypes(1947-09-28 02:00:00, Parameters({}))]), vDDDLists([vDDDTypes(1967-10-29 02:00:00, Parameters({}))]), vDDDLists([vDDDTypes(1969-10-26 02:00:00, Parameters({}))])], 'TZNAME': vText(b'MST'), 'TZOFFSETFROM': vUTCOffset(datetime.timedelta(days=-1, seconds=64800)), 'TZOFFSETTO': vUTCOffset(datetime.timedelta(days=-1, seconds=61200))}), DAYLIGHT({'DTSTART': vDDDTypes(1920-04-25 02:00:00, Parameters({})), 'RRULE': vRecur({'FREQ': ['YEARLY'], 'UNTIL': [datetime.datetime(1923, 4, 29, 9, 0, tzinfo=zoneinfo.ZoneInfo(key='UTC'))], 'BYMONTH': [vMonth('4')], 'BYDAY': ['-1SU']}), 'TZNAME': vText(b'MDT'), 'TZOFFSETFROM': vUTCOffset(datetime.timedelta(days=-1, seconds=61200)), 'TZOFFSETTO': vUTCOffset(datetime.timedelta(days=-1, seconds=64800))}), STANDARD({'DTSTART': vDDDTypes(1921-09-25 02:00:00, Parameters({})), 'RRULE': vRecur({'FREQ': ['YEARLY'], 'UNTIL': [datetime.datetime(1923, 9, 30, 8, 0, tzinfo=zoneinfo.ZoneInfo(key='UTC'))], 'BYMONTH': [vMonth('9')], 'BYDAY': ['-1SU']}), 'TZNAME': vText(b'MST'), 'TZOFFSETFROM': vUTCOffset(datetime.timedelta(days=-1, seconds=64800)), 'TZOFFSETTO': vUTCOffset(datetime.timedelta(days=-1, seconds=61200))}), DAYLIGHT({'DTSTART': vDDDTypes(1942-02-09 02:00:00, Parameters({})), 'RDATE': vDDDLists([vDDDTypes(1942-02-09 02:00:00, Parameters({}))]), 'TZNAME': vText(b'MWT'), 'TZOFFSETFROM': vUTCOffset(datetime.timedelta(days=-1, seconds=61200)), 'TZOFFSETTO': vUTCOffset(datetime.timedelta(days=-1, seconds=64800))}), DAYLIGHT({'DTSTART': vDDDTypes(1945-08-14 17:00:00, Parameters({})), 'RDATE': vDDDLists([vDDDTypes(1945-08-14 17:00:00, Parameters({}))]), 'TZNAME': vText(b'MPT'), 'TZOFFSETFROM': vUTCOffset(datetime.timedelta(days=-1, seconds=64800)), 'TZOFFSETTO': vUTCOffset(datetime.timedelta(days=-1, seconds=64800))}), DAYLIGHT({'DTSTART': vDDDTypes(1947-04-27 02:00:00, Parameters({})), 'RDATE': [vDDDLists([vDDDTypes(1947-04-27 02:00:00, Parameters({}))]), vDDDLists([vDDDTypes(1967-04-30 02:00:00, Parameters({}))]), vDDDLists([vDDDTypes(1969-04-27 02:00:00, Parameters({}))])], 'TZNAME': vText(b'MDT'), 'TZOFFSETFROM': vUTCOffset(datetime.timedelta(days=-1, seconds=61200)), 'TZOFFSETTO': vUTCOffset(datetime.timedelta(days=-1, seconds=64800))}), DAYLIGHT({'DTSTART': vDDDTypes(1972-04-30 02:00:00, Parameters({})), 'RRULE': vRecur({'FREQ': ['YEARLY'], 'UNTIL': [datetime.datetime(1986, 4, 27, 9, 0, tzinfo=zoneinfo.ZoneInfo(key='UTC'))], 'BYMONTH': [vMonth('4')], 'BYDAY': ['-1SU']}), 'TZNAME': vText(b'MDT'), 'TZOFFSETFROM': vUTCOffset(datetime.timedelta(days=-1, seconds=61200)), 'TZOFFSETTO': vUTCOffset(datetime.timedelta(days=-1, seconds=64800))}), STANDARD({'DTSTART': vDDDTypes(1972-10-29 02:00:00, Parameters({})), 'RRULE': vRecur({'FREQ': ['YEARLY'], 'UNTIL': [datetime.datetime(1986, 10, 26, 8, 0, tzinfo=zoneinfo.ZoneInfo(key='UTC'))], 'BYMONTH': [vMonth('10')], 'BYDAY': ['-1SU']}), 'TZNAME': vText(b'MST'), 'TZOFFSETFROM': vUTCOffset(datetime.timedelta(days=-1, seconds=64800)), 'TZOFFSETTO': vUTCOffset(datetime.timedelta(days=-1, seconds=61200))}), STANDARD({'DTSTART': vDDDTypes(1987-01-01 00:00:00, Parameters({})), 'RDATE': vDDDLists([vDDDTypes(1987-01-01 00:00:00, Parameters({}))]), 'TZNAME': vText(b'MST'), 'TZOFFSETFROM': vUTCOffset(datetime.timedelta(days=-1, seconds=61200)), 'TZOFFSETTO': vUTCOffset(datetime.timedelta(days=-1, seconds=61200))}), DAYLIGHT({'DTSTART': vDDDTypes(1987-04-05 02:00:00, Parameters({})), 'RRULE': vRecur({'FREQ': ['YEARLY'], 'UNTIL': [datetime.datetime(2006, 4, 2, 9, 0, tzinfo=zoneinfo.ZoneInfo(key='UTC'))], 'BYMONTH': [vMonth('4')], 'BYDAY': ['1SU']}), 'TZNAME': vText(b'MDT'), 'TZOFFSETFROM': vUTCOffset(datetime.timedelta(days=-1, seconds=61200)), 'TZOFFSETTO': vUTCOffset(datetime.timedelta(days=-1, seconds=64800))}), STANDARD({'DTSTART': vDDDTypes(1987-10-25 02:00:00, Parameters({})), 'RRULE': vRecur({'FREQ': ['YEARLY'], 'UNTIL': [datetime.datetime(2006, 10, 29, 8, 0, tzinfo=zoneinfo.ZoneInfo(key='UTC'))], 'BYMONTH': [vMonth('10')], 'BYDAY': ['-1SU']}), 'TZNAME': vText(b'MST'), 'TZOFFSETFROM': vUTCOffset(datetime.timedelta(days=-1, seconds=64800)), 'TZOFFSETTO': vUTCOffset(datetime.timedelta(days=-1, seconds=61200))}), DAYLIGHT({'DTSTART': vDDDTypes(2007-03-11 02:00:00, Parameters({})), 'RRULE': vRecur({'FREQ': ['YEARLY'], 'BYMONTH': [vMonth('3')], 'BYDAY': ['2SU']}), 'TZNAME': vText(b'MDT'), 'TZOFFSETFROM': vUTCOffset(datetime.timedelta(days=-1, seconds=61200)), 'TZOFFSETTO': vUTCOffset(datetime.timedelta(days=-1, seconds=64800))}), STANDARD({'DTSTART': vDDDTypes(2007-11-04 02:00:00, Parameters({})), 'RRULE': vRecur({'FREQ': ['YEARLY'], 'BYMONTH': [vMonth('11')], 'BYDAY': ['1SU']}), 'TZNAME': vText(b'MST'), 'TZOFFSETFROM': vUTCOffset(datetime.timedelta(days=-1, seconds=64800)), 'TZOFFSETTO': vUTCOffset(datetime.timedelta(days=-1, seconds=61200))})))"
      ]
     },
     "execution_count": 41,
     "metadata": {},
     "output_type": "execute_result"
    }
   ],
   "source": [
    "cal"
   ]
  },
  {
   "cell_type": "code",
   "execution_count": 30,
   "id": "38529629",
   "metadata": {},
   "outputs": [
    {
     "ename": "AttributeError",
     "evalue": "'str' object has no attribute 'dtype'",
     "output_type": "error",
     "traceback": [
      "\u001b[31m---------------------------------------------------------------------------\u001b[39m",
      "\u001b[31mAttributeError\u001b[39m                            Traceback (most recent call last)",
      "\u001b[36mCell\u001b[39m\u001b[36m \u001b[39m\u001b[32mIn[30]\u001b[39m\u001b[32m, line 1\u001b[39m\n\u001b[32m----> \u001b[39m\u001b[32m1\u001b[39m \u001b[43ma\u001b[49m\u001b[43m.\u001b[49m\u001b[43mdtype\u001b[49m\n",
      "\u001b[31mAttributeError\u001b[39m: 'str' object has no attribute 'dtype'"
     ]
    }
   ],
   "source": [
    "a.dtype"
   ]
  },
  {
   "cell_type": "code",
   "execution_count": null,
   "id": "072b60b9",
   "metadata": {},
   "outputs": [],
   "source": [
    "events = cal.date_search(start=start_date, end=end_date)\n",
    "for event in events:\n",
    "    cal = icalendar.Calendar.from_ical(event.data)\n",
    "    for component in cal.walk():\n",
    "        if component.name == \"VEVENT\":\n",
    "            summary = str(component.get('SUMMARY', ''))\n",
    "            if 'Equipe A' in summary:\n",
    "                # Supprimer si annulé\n",
    "                if 'ANNULE' in summary or component.get('STATUS') == 'CANCELLED':\n",
    "                    event.delete()\n"
   ]
  },
  {
   "cell_type": "code",
   "execution_count": 11,
   "id": "5bd285dd",
   "metadata": {},
   "outputs": [
    {
     "ename": "ConnectionError",
     "evalue": "HTTPSConnectionPool(host='dav.icloud.com', port=443): Max retries exceeded with url: / (Caused by NameResolutionError(\"<urllib3.connection.HTTPSConnection object at 0xffff986821e0>: Failed to resolve 'dav.icloud.com' ([Errno -2] Name or service not known)\"))",
     "output_type": "error",
     "traceback": [
      "\u001b[31m---------------------------------------------------------------------------\u001b[39m",
      "\u001b[31mgaierror\u001b[39m                                  Traceback (most recent call last)",
      "\u001b[36mFile \u001b[39m\u001b[32m/workspaces/playground_ai/.venv/lib/python3.12/site-packages/urllib3/connection.py:198\u001b[39m, in \u001b[36mHTTPConnection._new_conn\u001b[39m\u001b[34m(self)\u001b[39m\n\u001b[32m    197\u001b[39m \u001b[38;5;28;01mtry\u001b[39;00m:\n\u001b[32m--> \u001b[39m\u001b[32m198\u001b[39m     sock = \u001b[43mconnection\u001b[49m\u001b[43m.\u001b[49m\u001b[43mcreate_connection\u001b[49m\u001b[43m(\u001b[49m\n\u001b[32m    199\u001b[39m \u001b[43m        \u001b[49m\u001b[43m(\u001b[49m\u001b[38;5;28;43mself\u001b[39;49m\u001b[43m.\u001b[49m\u001b[43m_dns_host\u001b[49m\u001b[43m,\u001b[49m\u001b[43m \u001b[49m\u001b[38;5;28;43mself\u001b[39;49m\u001b[43m.\u001b[49m\u001b[43mport\u001b[49m\u001b[43m)\u001b[49m\u001b[43m,\u001b[49m\n\u001b[32m    200\u001b[39m \u001b[43m        \u001b[49m\u001b[38;5;28;43mself\u001b[39;49m\u001b[43m.\u001b[49m\u001b[43mtimeout\u001b[49m\u001b[43m,\u001b[49m\n\u001b[32m    201\u001b[39m \u001b[43m        \u001b[49m\u001b[43msource_address\u001b[49m\u001b[43m=\u001b[49m\u001b[38;5;28;43mself\u001b[39;49m\u001b[43m.\u001b[49m\u001b[43msource_address\u001b[49m\u001b[43m,\u001b[49m\n\u001b[32m    202\u001b[39m \u001b[43m        \u001b[49m\u001b[43msocket_options\u001b[49m\u001b[43m=\u001b[49m\u001b[38;5;28;43mself\u001b[39;49m\u001b[43m.\u001b[49m\u001b[43msocket_options\u001b[49m\u001b[43m,\u001b[49m\n\u001b[32m    203\u001b[39m \u001b[43m    \u001b[49m\u001b[43m)\u001b[49m\n\u001b[32m    204\u001b[39m \u001b[38;5;28;01mexcept\u001b[39;00m socket.gaierror \u001b[38;5;28;01mas\u001b[39;00m e:\n",
      "\u001b[36mFile \u001b[39m\u001b[32m/workspaces/playground_ai/.venv/lib/python3.12/site-packages/urllib3/util/connection.py:60\u001b[39m, in \u001b[36mcreate_connection\u001b[39m\u001b[34m(address, timeout, source_address, socket_options)\u001b[39m\n\u001b[32m     58\u001b[39m     \u001b[38;5;28;01mraise\u001b[39;00m LocationParseError(\u001b[33mf\u001b[39m\u001b[33m\"\u001b[39m\u001b[33m'\u001b[39m\u001b[38;5;132;01m{\u001b[39;00mhost\u001b[38;5;132;01m}\u001b[39;00m\u001b[33m'\u001b[39m\u001b[33m, label empty or too long\u001b[39m\u001b[33m\"\u001b[39m) \u001b[38;5;28;01mfrom\u001b[39;00m\u001b[38;5;250m \u001b[39m\u001b[38;5;28;01mNone\u001b[39;00m\n\u001b[32m---> \u001b[39m\u001b[32m60\u001b[39m \u001b[38;5;28;01mfor\u001b[39;00m res \u001b[38;5;129;01min\u001b[39;00m \u001b[43msocket\u001b[49m\u001b[43m.\u001b[49m\u001b[43mgetaddrinfo\u001b[49m\u001b[43m(\u001b[49m\u001b[43mhost\u001b[49m\u001b[43m,\u001b[49m\u001b[43m \u001b[49m\u001b[43mport\u001b[49m\u001b[43m,\u001b[49m\u001b[43m \u001b[49m\u001b[43mfamily\u001b[49m\u001b[43m,\u001b[49m\u001b[43m \u001b[49m\u001b[43msocket\u001b[49m\u001b[43m.\u001b[49m\u001b[43mSOCK_STREAM\u001b[49m\u001b[43m)\u001b[49m:\n\u001b[32m     61\u001b[39m     af, socktype, proto, canonname, sa = res\n",
      "\u001b[36mFile \u001b[39m\u001b[32m/usr/local/lib/python3.12/socket.py:978\u001b[39m, in \u001b[36mgetaddrinfo\u001b[39m\u001b[34m(host, port, family, type, proto, flags)\u001b[39m\n\u001b[32m    977\u001b[39m addrlist = []\n\u001b[32m--> \u001b[39m\u001b[32m978\u001b[39m \u001b[38;5;28;01mfor\u001b[39;00m res \u001b[38;5;129;01min\u001b[39;00m \u001b[43m_socket\u001b[49m\u001b[43m.\u001b[49m\u001b[43mgetaddrinfo\u001b[49m\u001b[43m(\u001b[49m\u001b[43mhost\u001b[49m\u001b[43m,\u001b[49m\u001b[43m \u001b[49m\u001b[43mport\u001b[49m\u001b[43m,\u001b[49m\u001b[43m \u001b[49m\u001b[43mfamily\u001b[49m\u001b[43m,\u001b[49m\u001b[43m \u001b[49m\u001b[38;5;28;43mtype\u001b[39;49m\u001b[43m,\u001b[49m\u001b[43m \u001b[49m\u001b[43mproto\u001b[49m\u001b[43m,\u001b[49m\u001b[43m \u001b[49m\u001b[43mflags\u001b[49m\u001b[43m)\u001b[49m:\n\u001b[32m    979\u001b[39m     af, socktype, proto, canonname, sa = res\n",
      "\u001b[31mgaierror\u001b[39m: [Errno -2] Name or service not known",
      "\nThe above exception was the direct cause of the following exception:\n",
      "\u001b[31mNameResolutionError\u001b[39m                       Traceback (most recent call last)",
      "\u001b[36mFile \u001b[39m\u001b[32m/workspaces/playground_ai/.venv/lib/python3.12/site-packages/urllib3/connectionpool.py:787\u001b[39m, in \u001b[36mHTTPConnectionPool.urlopen\u001b[39m\u001b[34m(self, method, url, body, headers, retries, redirect, assert_same_host, timeout, pool_timeout, release_conn, chunked, body_pos, preload_content, decode_content, **response_kw)\u001b[39m\n\u001b[32m    786\u001b[39m \u001b[38;5;66;03m# Make the request on the HTTPConnection object\u001b[39;00m\n\u001b[32m--> \u001b[39m\u001b[32m787\u001b[39m response = \u001b[38;5;28;43mself\u001b[39;49m\u001b[43m.\u001b[49m\u001b[43m_make_request\u001b[49m\u001b[43m(\u001b[49m\n\u001b[32m    788\u001b[39m \u001b[43m    \u001b[49m\u001b[43mconn\u001b[49m\u001b[43m,\u001b[49m\n\u001b[32m    789\u001b[39m \u001b[43m    \u001b[49m\u001b[43mmethod\u001b[49m\u001b[43m,\u001b[49m\n\u001b[32m    790\u001b[39m \u001b[43m    \u001b[49m\u001b[43murl\u001b[49m\u001b[43m,\u001b[49m\n\u001b[32m    791\u001b[39m \u001b[43m    \u001b[49m\u001b[43mtimeout\u001b[49m\u001b[43m=\u001b[49m\u001b[43mtimeout_obj\u001b[49m\u001b[43m,\u001b[49m\n\u001b[32m    792\u001b[39m \u001b[43m    \u001b[49m\u001b[43mbody\u001b[49m\u001b[43m=\u001b[49m\u001b[43mbody\u001b[49m\u001b[43m,\u001b[49m\n\u001b[32m    793\u001b[39m \u001b[43m    \u001b[49m\u001b[43mheaders\u001b[49m\u001b[43m=\u001b[49m\u001b[43mheaders\u001b[49m\u001b[43m,\u001b[49m\n\u001b[32m    794\u001b[39m \u001b[43m    \u001b[49m\u001b[43mchunked\u001b[49m\u001b[43m=\u001b[49m\u001b[43mchunked\u001b[49m\u001b[43m,\u001b[49m\n\u001b[32m    795\u001b[39m \u001b[43m    \u001b[49m\u001b[43mretries\u001b[49m\u001b[43m=\u001b[49m\u001b[43mretries\u001b[49m\u001b[43m,\u001b[49m\n\u001b[32m    796\u001b[39m \u001b[43m    \u001b[49m\u001b[43mresponse_conn\u001b[49m\u001b[43m=\u001b[49m\u001b[43mresponse_conn\u001b[49m\u001b[43m,\u001b[49m\n\u001b[32m    797\u001b[39m \u001b[43m    \u001b[49m\u001b[43mpreload_content\u001b[49m\u001b[43m=\u001b[49m\u001b[43mpreload_content\u001b[49m\u001b[43m,\u001b[49m\n\u001b[32m    798\u001b[39m \u001b[43m    \u001b[49m\u001b[43mdecode_content\u001b[49m\u001b[43m=\u001b[49m\u001b[43mdecode_content\u001b[49m\u001b[43m,\u001b[49m\n\u001b[32m    799\u001b[39m \u001b[43m    \u001b[49m\u001b[43m*\u001b[49m\u001b[43m*\u001b[49m\u001b[43mresponse_kw\u001b[49m\u001b[43m,\u001b[49m\n\u001b[32m    800\u001b[39m \u001b[43m\u001b[49m\u001b[43m)\u001b[49m\n\u001b[32m    802\u001b[39m \u001b[38;5;66;03m# Everything went great!\u001b[39;00m\n",
      "\u001b[36mFile \u001b[39m\u001b[32m/workspaces/playground_ai/.venv/lib/python3.12/site-packages/urllib3/connectionpool.py:488\u001b[39m, in \u001b[36mHTTPConnectionPool._make_request\u001b[39m\u001b[34m(self, conn, method, url, body, headers, retries, timeout, chunked, response_conn, preload_content, decode_content, enforce_content_length)\u001b[39m\n\u001b[32m    487\u001b[39m         new_e = _wrap_proxy_error(new_e, conn.proxy.scheme)\n\u001b[32m--> \u001b[39m\u001b[32m488\u001b[39m     \u001b[38;5;28;01mraise\u001b[39;00m new_e\n\u001b[32m    490\u001b[39m \u001b[38;5;66;03m# conn.request() calls http.client.*.request, not the method in\u001b[39;00m\n\u001b[32m    491\u001b[39m \u001b[38;5;66;03m# urllib3.request. It also calls makefile (recv) on the socket.\u001b[39;00m\n",
      "\u001b[36mFile \u001b[39m\u001b[32m/workspaces/playground_ai/.venv/lib/python3.12/site-packages/urllib3/connectionpool.py:464\u001b[39m, in \u001b[36mHTTPConnectionPool._make_request\u001b[39m\u001b[34m(self, conn, method, url, body, headers, retries, timeout, chunked, response_conn, preload_content, decode_content, enforce_content_length)\u001b[39m\n\u001b[32m    463\u001b[39m \u001b[38;5;28;01mtry\u001b[39;00m:\n\u001b[32m--> \u001b[39m\u001b[32m464\u001b[39m     \u001b[38;5;28;43mself\u001b[39;49m\u001b[43m.\u001b[49m\u001b[43m_validate_conn\u001b[49m\u001b[43m(\u001b[49m\u001b[43mconn\u001b[49m\u001b[43m)\u001b[49m\n\u001b[32m    465\u001b[39m \u001b[38;5;28;01mexcept\u001b[39;00m (SocketTimeout, BaseSSLError) \u001b[38;5;28;01mas\u001b[39;00m e:\n",
      "\u001b[36mFile \u001b[39m\u001b[32m/workspaces/playground_ai/.venv/lib/python3.12/site-packages/urllib3/connectionpool.py:1093\u001b[39m, in \u001b[36mHTTPSConnectionPool._validate_conn\u001b[39m\u001b[34m(self, conn)\u001b[39m\n\u001b[32m   1092\u001b[39m \u001b[38;5;28;01mif\u001b[39;00m conn.is_closed:\n\u001b[32m-> \u001b[39m\u001b[32m1093\u001b[39m     \u001b[43mconn\u001b[49m\u001b[43m.\u001b[49m\u001b[43mconnect\u001b[49m\u001b[43m(\u001b[49m\u001b[43m)\u001b[49m\n\u001b[32m   1095\u001b[39m \u001b[38;5;66;03m# TODO revise this, see https://github.com/urllib3/urllib3/issues/2791\u001b[39;00m\n",
      "\u001b[36mFile \u001b[39m\u001b[32m/workspaces/playground_ai/.venv/lib/python3.12/site-packages/urllib3/connection.py:753\u001b[39m, in \u001b[36mHTTPSConnection.connect\u001b[39m\u001b[34m(self)\u001b[39m\n\u001b[32m    752\u001b[39m sock: socket.socket | ssl.SSLSocket\n\u001b[32m--> \u001b[39m\u001b[32m753\u001b[39m \u001b[38;5;28mself\u001b[39m.sock = sock = \u001b[38;5;28;43mself\u001b[39;49m\u001b[43m.\u001b[49m\u001b[43m_new_conn\u001b[49m\u001b[43m(\u001b[49m\u001b[43m)\u001b[49m\n\u001b[32m    754\u001b[39m server_hostname: \u001b[38;5;28mstr\u001b[39m = \u001b[38;5;28mself\u001b[39m.host\n",
      "\u001b[36mFile \u001b[39m\u001b[32m/workspaces/playground_ai/.venv/lib/python3.12/site-packages/urllib3/connection.py:205\u001b[39m, in \u001b[36mHTTPConnection._new_conn\u001b[39m\u001b[34m(self)\u001b[39m\n\u001b[32m    204\u001b[39m \u001b[38;5;28;01mexcept\u001b[39;00m socket.gaierror \u001b[38;5;28;01mas\u001b[39;00m e:\n\u001b[32m--> \u001b[39m\u001b[32m205\u001b[39m     \u001b[38;5;28;01mraise\u001b[39;00m NameResolutionError(\u001b[38;5;28mself\u001b[39m.host, \u001b[38;5;28mself\u001b[39m, e) \u001b[38;5;28;01mfrom\u001b[39;00m\u001b[38;5;250m \u001b[39m\u001b[34;01me\u001b[39;00m\n\u001b[32m    206\u001b[39m \u001b[38;5;28;01mexcept\u001b[39;00m SocketTimeout \u001b[38;5;28;01mas\u001b[39;00m e:\n",
      "\u001b[31mNameResolutionError\u001b[39m: <urllib3.connection.HTTPSConnection object at 0xffff98681d90>: Failed to resolve 'dav.icloud.com' ([Errno -2] Name or service not known)",
      "\nThe above exception was the direct cause of the following exception:\n",
      "\u001b[31mMaxRetryError\u001b[39m                             Traceback (most recent call last)",
      "\u001b[36mFile \u001b[39m\u001b[32m/workspaces/playground_ai/.venv/lib/python3.12/site-packages/requests/adapters.py:644\u001b[39m, in \u001b[36mHTTPAdapter.send\u001b[39m\u001b[34m(self, request, stream, timeout, verify, cert, proxies)\u001b[39m\n\u001b[32m    643\u001b[39m \u001b[38;5;28;01mtry\u001b[39;00m:\n\u001b[32m--> \u001b[39m\u001b[32m644\u001b[39m     resp = \u001b[43mconn\u001b[49m\u001b[43m.\u001b[49m\u001b[43murlopen\u001b[49m\u001b[43m(\u001b[49m\n\u001b[32m    645\u001b[39m \u001b[43m        \u001b[49m\u001b[43mmethod\u001b[49m\u001b[43m=\u001b[49m\u001b[43mrequest\u001b[49m\u001b[43m.\u001b[49m\u001b[43mmethod\u001b[49m\u001b[43m,\u001b[49m\n\u001b[32m    646\u001b[39m \u001b[43m        \u001b[49m\u001b[43murl\u001b[49m\u001b[43m=\u001b[49m\u001b[43murl\u001b[49m\u001b[43m,\u001b[49m\n\u001b[32m    647\u001b[39m \u001b[43m        \u001b[49m\u001b[43mbody\u001b[49m\u001b[43m=\u001b[49m\u001b[43mrequest\u001b[49m\u001b[43m.\u001b[49m\u001b[43mbody\u001b[49m\u001b[43m,\u001b[49m\n\u001b[32m    648\u001b[39m \u001b[43m        \u001b[49m\u001b[43mheaders\u001b[49m\u001b[43m=\u001b[49m\u001b[43mrequest\u001b[49m\u001b[43m.\u001b[49m\u001b[43mheaders\u001b[49m\u001b[43m,\u001b[49m\n\u001b[32m    649\u001b[39m \u001b[43m        \u001b[49m\u001b[43mredirect\u001b[49m\u001b[43m=\u001b[49m\u001b[38;5;28;43;01mFalse\u001b[39;49;00m\u001b[43m,\u001b[49m\n\u001b[32m    650\u001b[39m \u001b[43m        \u001b[49m\u001b[43massert_same_host\u001b[49m\u001b[43m=\u001b[49m\u001b[38;5;28;43;01mFalse\u001b[39;49;00m\u001b[43m,\u001b[49m\n\u001b[32m    651\u001b[39m \u001b[43m        \u001b[49m\u001b[43mpreload_content\u001b[49m\u001b[43m=\u001b[49m\u001b[38;5;28;43;01mFalse\u001b[39;49;00m\u001b[43m,\u001b[49m\n\u001b[32m    652\u001b[39m \u001b[43m        \u001b[49m\u001b[43mdecode_content\u001b[49m\u001b[43m=\u001b[49m\u001b[38;5;28;43;01mFalse\u001b[39;49;00m\u001b[43m,\u001b[49m\n\u001b[32m    653\u001b[39m \u001b[43m        \u001b[49m\u001b[43mretries\u001b[49m\u001b[43m=\u001b[49m\u001b[38;5;28;43mself\u001b[39;49m\u001b[43m.\u001b[49m\u001b[43mmax_retries\u001b[49m\u001b[43m,\u001b[49m\n\u001b[32m    654\u001b[39m \u001b[43m        \u001b[49m\u001b[43mtimeout\u001b[49m\u001b[43m=\u001b[49m\u001b[43mtimeout\u001b[49m\u001b[43m,\u001b[49m\n\u001b[32m    655\u001b[39m \u001b[43m        \u001b[49m\u001b[43mchunked\u001b[49m\u001b[43m=\u001b[49m\u001b[43mchunked\u001b[49m\u001b[43m,\u001b[49m\n\u001b[32m    656\u001b[39m \u001b[43m    \u001b[49m\u001b[43m)\u001b[49m\n\u001b[32m    658\u001b[39m \u001b[38;5;28;01mexcept\u001b[39;00m (ProtocolError, \u001b[38;5;167;01mOSError\u001b[39;00m) \u001b[38;5;28;01mas\u001b[39;00m err:\n",
      "\u001b[36mFile \u001b[39m\u001b[32m/workspaces/playground_ai/.venv/lib/python3.12/site-packages/urllib3/connectionpool.py:841\u001b[39m, in \u001b[36mHTTPConnectionPool.urlopen\u001b[39m\u001b[34m(self, method, url, body, headers, retries, redirect, assert_same_host, timeout, pool_timeout, release_conn, chunked, body_pos, preload_content, decode_content, **response_kw)\u001b[39m\n\u001b[32m    839\u001b[39m     new_e = ProtocolError(\u001b[33m\"\u001b[39m\u001b[33mConnection aborted.\u001b[39m\u001b[33m\"\u001b[39m, new_e)\n\u001b[32m--> \u001b[39m\u001b[32m841\u001b[39m retries = \u001b[43mretries\u001b[49m\u001b[43m.\u001b[49m\u001b[43mincrement\u001b[49m\u001b[43m(\u001b[49m\n\u001b[32m    842\u001b[39m \u001b[43m    \u001b[49m\u001b[43mmethod\u001b[49m\u001b[43m,\u001b[49m\u001b[43m \u001b[49m\u001b[43murl\u001b[49m\u001b[43m,\u001b[49m\u001b[43m \u001b[49m\u001b[43merror\u001b[49m\u001b[43m=\u001b[49m\u001b[43mnew_e\u001b[49m\u001b[43m,\u001b[49m\u001b[43m \u001b[49m\u001b[43m_pool\u001b[49m\u001b[43m=\u001b[49m\u001b[38;5;28;43mself\u001b[39;49m\u001b[43m,\u001b[49m\u001b[43m \u001b[49m\u001b[43m_stacktrace\u001b[49m\u001b[43m=\u001b[49m\u001b[43msys\u001b[49m\u001b[43m.\u001b[49m\u001b[43mexc_info\u001b[49m\u001b[43m(\u001b[49m\u001b[43m)\u001b[49m\u001b[43m[\u001b[49m\u001b[32;43m2\u001b[39;49m\u001b[43m]\u001b[49m\n\u001b[32m    843\u001b[39m \u001b[43m\u001b[49m\u001b[43m)\u001b[49m\n\u001b[32m    844\u001b[39m retries.sleep()\n",
      "\u001b[36mFile \u001b[39m\u001b[32m/workspaces/playground_ai/.venv/lib/python3.12/site-packages/urllib3/util/retry.py:519\u001b[39m, in \u001b[36mRetry.increment\u001b[39m\u001b[34m(self, method, url, response, error, _pool, _stacktrace)\u001b[39m\n\u001b[32m    518\u001b[39m     reason = error \u001b[38;5;129;01mor\u001b[39;00m ResponseError(cause)\n\u001b[32m--> \u001b[39m\u001b[32m519\u001b[39m     \u001b[38;5;28;01mraise\u001b[39;00m MaxRetryError(_pool, url, reason) \u001b[38;5;28;01mfrom\u001b[39;00m\u001b[38;5;250m \u001b[39m\u001b[34;01mreason\u001b[39;00m  \u001b[38;5;66;03m# type: ignore[arg-type]\u001b[39;00m\n\u001b[32m    521\u001b[39m log.debug(\u001b[33m\"\u001b[39m\u001b[33mIncremented Retry for (url=\u001b[39m\u001b[33m'\u001b[39m\u001b[38;5;132;01m%s\u001b[39;00m\u001b[33m'\u001b[39m\u001b[33m): \u001b[39m\u001b[38;5;132;01m%r\u001b[39;00m\u001b[33m\"\u001b[39m, url, new_retry)\n",
      "\u001b[31mMaxRetryError\u001b[39m: HTTPSConnectionPool(host='dav.icloud.com', port=443): Max retries exceeded with url: / (Caused by NameResolutionError(\"<urllib3.connection.HTTPSConnection object at 0xffff98681d90>: Failed to resolve 'dav.icloud.com' ([Errno -2] Name or service not known)\"))",
      "\nDuring handling of the above exception, another exception occurred:\n",
      "\u001b[31mConnectionError\u001b[39m                           Traceback (most recent call last)",
      "\u001b[36mFile \u001b[39m\u001b[32m/workspaces/playground_ai/.venv/lib/python3.12/site-packages/caldav/davclient.py:878\u001b[39m, in \u001b[36mDAVClient.request\u001b[39m\u001b[34m(self, url, method, body, headers)\u001b[39m\n\u001b[32m    877\u001b[39m \u001b[38;5;28;01mtry\u001b[39;00m:\n\u001b[32m--> \u001b[39m\u001b[32m878\u001b[39m     r = \u001b[38;5;28;43mself\u001b[39;49m\u001b[43m.\u001b[49m\u001b[43msession\u001b[49m\u001b[43m.\u001b[49m\u001b[43mrequest\u001b[49m\u001b[43m(\u001b[49m\n\u001b[32m    879\u001b[39m \u001b[43m        \u001b[49m\u001b[43mmethod\u001b[49m\u001b[43m,\u001b[49m\n\u001b[32m    880\u001b[39m \u001b[43m        \u001b[49m\u001b[38;5;28;43mstr\u001b[39;49m\u001b[43m(\u001b[49m\u001b[43murl_obj\u001b[49m\u001b[43m)\u001b[49m\u001b[43m,\u001b[49m\n\u001b[32m    881\u001b[39m \u001b[43m        \u001b[49m\u001b[43mdata\u001b[49m\u001b[43m=\u001b[49m\u001b[43mto_wire\u001b[49m\u001b[43m(\u001b[49m\u001b[43mbody\u001b[49m\u001b[43m)\u001b[49m\u001b[43m,\u001b[49m\n\u001b[32m    882\u001b[39m \u001b[43m        \u001b[49m\u001b[43mheaders\u001b[49m\u001b[43m=\u001b[49m\u001b[43mcombined_headers\u001b[49m\u001b[43m,\u001b[49m\n\u001b[32m    883\u001b[39m \u001b[43m        \u001b[49m\u001b[43mproxies\u001b[49m\u001b[43m=\u001b[49m\u001b[43mproxies\u001b[49m\u001b[43m,\u001b[49m\n\u001b[32m    884\u001b[39m \u001b[43m        \u001b[49m\u001b[43mauth\u001b[49m\u001b[43m=\u001b[49m\u001b[38;5;28;43mself\u001b[39;49m\u001b[43m.\u001b[49m\u001b[43mauth\u001b[49m\u001b[43m,\u001b[49m\n\u001b[32m    885\u001b[39m \u001b[43m        \u001b[49m\u001b[43mtimeout\u001b[49m\u001b[43m=\u001b[49m\u001b[38;5;28;43mself\u001b[39;49m\u001b[43m.\u001b[49m\u001b[43mtimeout\u001b[49m\u001b[43m,\u001b[49m\n\u001b[32m    886\u001b[39m \u001b[43m        \u001b[49m\u001b[43mverify\u001b[49m\u001b[43m=\u001b[49m\u001b[38;5;28;43mself\u001b[39;49m\u001b[43m.\u001b[49m\u001b[43mssl_verify_cert\u001b[49m\u001b[43m,\u001b[49m\n\u001b[32m    887\u001b[39m \u001b[43m        \u001b[49m\u001b[43mcert\u001b[49m\u001b[43m=\u001b[49m\u001b[38;5;28;43mself\u001b[39;49m\u001b[43m.\u001b[49m\u001b[43mssl_cert\u001b[49m\u001b[43m,\u001b[49m\n\u001b[32m    888\u001b[39m \u001b[43m    \u001b[49m\u001b[43m)\u001b[49m\n\u001b[32m    889\u001b[39m     log.debug(\u001b[33m\"\u001b[39m\u001b[33mserver responded with \u001b[39m\u001b[38;5;132;01m%i\u001b[39;00m\u001b[33m \u001b[39m\u001b[38;5;132;01m%s\u001b[39;00m\u001b[33m\"\u001b[39m % (r.status_code, r.reason))\n",
      "\u001b[36mFile \u001b[39m\u001b[32m/workspaces/playground_ai/.venv/lib/python3.12/site-packages/requests/sessions.py:589\u001b[39m, in \u001b[36mSession.request\u001b[39m\u001b[34m(self, method, url, params, data, headers, cookies, files, auth, timeout, allow_redirects, proxies, hooks, stream, verify, cert, json)\u001b[39m\n\u001b[32m    588\u001b[39m send_kwargs.update(settings)\n\u001b[32m--> \u001b[39m\u001b[32m589\u001b[39m resp = \u001b[38;5;28;43mself\u001b[39;49m\u001b[43m.\u001b[49m\u001b[43msend\u001b[49m\u001b[43m(\u001b[49m\u001b[43mprep\u001b[49m\u001b[43m,\u001b[49m\u001b[43m \u001b[49m\u001b[43m*\u001b[49m\u001b[43m*\u001b[49m\u001b[43msend_kwargs\u001b[49m\u001b[43m)\u001b[49m\n\u001b[32m    591\u001b[39m \u001b[38;5;28;01mreturn\u001b[39;00m resp\n",
      "\u001b[36mFile \u001b[39m\u001b[32m/workspaces/playground_ai/.venv/lib/python3.12/site-packages/requests/sessions.py:703\u001b[39m, in \u001b[36mSession.send\u001b[39m\u001b[34m(self, request, **kwargs)\u001b[39m\n\u001b[32m    702\u001b[39m \u001b[38;5;66;03m# Send the request\u001b[39;00m\n\u001b[32m--> \u001b[39m\u001b[32m703\u001b[39m r = \u001b[43madapter\u001b[49m\u001b[43m.\u001b[49m\u001b[43msend\u001b[49m\u001b[43m(\u001b[49m\u001b[43mrequest\u001b[49m\u001b[43m,\u001b[49m\u001b[43m \u001b[49m\u001b[43m*\u001b[49m\u001b[43m*\u001b[49m\u001b[43mkwargs\u001b[49m\u001b[43m)\u001b[49m\n\u001b[32m    705\u001b[39m \u001b[38;5;66;03m# Total elapsed time of the request (approximately)\u001b[39;00m\n",
      "\u001b[36mFile \u001b[39m\u001b[32m/workspaces/playground_ai/.venv/lib/python3.12/site-packages/requests/adapters.py:677\u001b[39m, in \u001b[36mHTTPAdapter.send\u001b[39m\u001b[34m(self, request, stream, timeout, verify, cert, proxies)\u001b[39m\n\u001b[32m    675\u001b[39m         \u001b[38;5;28;01mraise\u001b[39;00m SSLError(e, request=request)\n\u001b[32m--> \u001b[39m\u001b[32m677\u001b[39m     \u001b[38;5;28;01mraise\u001b[39;00m \u001b[38;5;167;01mConnectionError\u001b[39;00m(e, request=request)\n\u001b[32m    679\u001b[39m \u001b[38;5;28;01mexcept\u001b[39;00m ClosedPoolError \u001b[38;5;28;01mas\u001b[39;00m e:\n",
      "\u001b[31mConnectionError\u001b[39m: HTTPSConnectionPool(host='dav.icloud.com', port=443): Max retries exceeded with url: / (Caused by NameResolutionError(\"<urllib3.connection.HTTPSConnection object at 0xffff98681d90>: Failed to resolve 'dav.icloud.com' ([Errno -2] Name or service not known)\"))",
      "\nDuring handling of the above exception, another exception occurred:\n",
      "\u001b[31mgaierror\u001b[39m                                  Traceback (most recent call last)",
      "\u001b[36mFile \u001b[39m\u001b[32m/workspaces/playground_ai/.venv/lib/python3.12/site-packages/urllib3/connection.py:198\u001b[39m, in \u001b[36mHTTPConnection._new_conn\u001b[39m\u001b[34m(self)\u001b[39m\n\u001b[32m    197\u001b[39m \u001b[38;5;28;01mtry\u001b[39;00m:\n\u001b[32m--> \u001b[39m\u001b[32m198\u001b[39m     sock = \u001b[43mconnection\u001b[49m\u001b[43m.\u001b[49m\u001b[43mcreate_connection\u001b[49m\u001b[43m(\u001b[49m\n\u001b[32m    199\u001b[39m \u001b[43m        \u001b[49m\u001b[43m(\u001b[49m\u001b[38;5;28;43mself\u001b[39;49m\u001b[43m.\u001b[49m\u001b[43m_dns_host\u001b[49m\u001b[43m,\u001b[49m\u001b[43m \u001b[49m\u001b[38;5;28;43mself\u001b[39;49m\u001b[43m.\u001b[49m\u001b[43mport\u001b[49m\u001b[43m)\u001b[49m\u001b[43m,\u001b[49m\n\u001b[32m    200\u001b[39m \u001b[43m        \u001b[49m\u001b[38;5;28;43mself\u001b[39;49m\u001b[43m.\u001b[49m\u001b[43mtimeout\u001b[49m\u001b[43m,\u001b[49m\n\u001b[32m    201\u001b[39m \u001b[43m        \u001b[49m\u001b[43msource_address\u001b[49m\u001b[43m=\u001b[49m\u001b[38;5;28;43mself\u001b[39;49m\u001b[43m.\u001b[49m\u001b[43msource_address\u001b[49m\u001b[43m,\u001b[49m\n\u001b[32m    202\u001b[39m \u001b[43m        \u001b[49m\u001b[43msocket_options\u001b[49m\u001b[43m=\u001b[49m\u001b[38;5;28;43mself\u001b[39;49m\u001b[43m.\u001b[49m\u001b[43msocket_options\u001b[49m\u001b[43m,\u001b[49m\n\u001b[32m    203\u001b[39m \u001b[43m    \u001b[49m\u001b[43m)\u001b[49m\n\u001b[32m    204\u001b[39m \u001b[38;5;28;01mexcept\u001b[39;00m socket.gaierror \u001b[38;5;28;01mas\u001b[39;00m e:\n",
      "\u001b[36mFile \u001b[39m\u001b[32m/workspaces/playground_ai/.venv/lib/python3.12/site-packages/urllib3/util/connection.py:60\u001b[39m, in \u001b[36mcreate_connection\u001b[39m\u001b[34m(address, timeout, source_address, socket_options)\u001b[39m\n\u001b[32m     58\u001b[39m     \u001b[38;5;28;01mraise\u001b[39;00m LocationParseError(\u001b[33mf\u001b[39m\u001b[33m\"\u001b[39m\u001b[33m'\u001b[39m\u001b[38;5;132;01m{\u001b[39;00mhost\u001b[38;5;132;01m}\u001b[39;00m\u001b[33m'\u001b[39m\u001b[33m, label empty or too long\u001b[39m\u001b[33m\"\u001b[39m) \u001b[38;5;28;01mfrom\u001b[39;00m\u001b[38;5;250m \u001b[39m\u001b[38;5;28;01mNone\u001b[39;00m\n\u001b[32m---> \u001b[39m\u001b[32m60\u001b[39m \u001b[38;5;28;01mfor\u001b[39;00m res \u001b[38;5;129;01min\u001b[39;00m \u001b[43msocket\u001b[49m\u001b[43m.\u001b[49m\u001b[43mgetaddrinfo\u001b[49m\u001b[43m(\u001b[49m\u001b[43mhost\u001b[49m\u001b[43m,\u001b[49m\u001b[43m \u001b[49m\u001b[43mport\u001b[49m\u001b[43m,\u001b[49m\u001b[43m \u001b[49m\u001b[43mfamily\u001b[49m\u001b[43m,\u001b[49m\u001b[43m \u001b[49m\u001b[43msocket\u001b[49m\u001b[43m.\u001b[49m\u001b[43mSOCK_STREAM\u001b[49m\u001b[43m)\u001b[49m:\n\u001b[32m     61\u001b[39m     af, socktype, proto, canonname, sa = res\n",
      "\u001b[36mFile \u001b[39m\u001b[32m/usr/local/lib/python3.12/socket.py:978\u001b[39m, in \u001b[36mgetaddrinfo\u001b[39m\u001b[34m(host, port, family, type, proto, flags)\u001b[39m\n\u001b[32m    977\u001b[39m addrlist = []\n\u001b[32m--> \u001b[39m\u001b[32m978\u001b[39m \u001b[38;5;28;01mfor\u001b[39;00m res \u001b[38;5;129;01min\u001b[39;00m \u001b[43m_socket\u001b[49m\u001b[43m.\u001b[49m\u001b[43mgetaddrinfo\u001b[49m\u001b[43m(\u001b[49m\u001b[43mhost\u001b[49m\u001b[43m,\u001b[49m\u001b[43m \u001b[49m\u001b[43mport\u001b[49m\u001b[43m,\u001b[49m\u001b[43m \u001b[49m\u001b[43mfamily\u001b[49m\u001b[43m,\u001b[49m\u001b[43m \u001b[49m\u001b[38;5;28;43mtype\u001b[39;49m\u001b[43m,\u001b[49m\u001b[43m \u001b[49m\u001b[43mproto\u001b[49m\u001b[43m,\u001b[49m\u001b[43m \u001b[49m\u001b[43mflags\u001b[49m\u001b[43m)\u001b[49m:\n\u001b[32m    979\u001b[39m     af, socktype, proto, canonname, sa = res\n",
      "\u001b[31mgaierror\u001b[39m: [Errno -2] Name or service not known",
      "\nThe above exception was the direct cause of the following exception:\n",
      "\u001b[31mNameResolutionError\u001b[39m                       Traceback (most recent call last)",
      "\u001b[36mFile \u001b[39m\u001b[32m/workspaces/playground_ai/.venv/lib/python3.12/site-packages/urllib3/connectionpool.py:787\u001b[39m, in \u001b[36mHTTPConnectionPool.urlopen\u001b[39m\u001b[34m(self, method, url, body, headers, retries, redirect, assert_same_host, timeout, pool_timeout, release_conn, chunked, body_pos, preload_content, decode_content, **response_kw)\u001b[39m\n\u001b[32m    786\u001b[39m \u001b[38;5;66;03m# Make the request on the HTTPConnection object\u001b[39;00m\n\u001b[32m--> \u001b[39m\u001b[32m787\u001b[39m response = \u001b[38;5;28;43mself\u001b[39;49m\u001b[43m.\u001b[49m\u001b[43m_make_request\u001b[49m\u001b[43m(\u001b[49m\n\u001b[32m    788\u001b[39m \u001b[43m    \u001b[49m\u001b[43mconn\u001b[49m\u001b[43m,\u001b[49m\n\u001b[32m    789\u001b[39m \u001b[43m    \u001b[49m\u001b[43mmethod\u001b[49m\u001b[43m,\u001b[49m\n\u001b[32m    790\u001b[39m \u001b[43m    \u001b[49m\u001b[43murl\u001b[49m\u001b[43m,\u001b[49m\n\u001b[32m    791\u001b[39m \u001b[43m    \u001b[49m\u001b[43mtimeout\u001b[49m\u001b[43m=\u001b[49m\u001b[43mtimeout_obj\u001b[49m\u001b[43m,\u001b[49m\n\u001b[32m    792\u001b[39m \u001b[43m    \u001b[49m\u001b[43mbody\u001b[49m\u001b[43m=\u001b[49m\u001b[43mbody\u001b[49m\u001b[43m,\u001b[49m\n\u001b[32m    793\u001b[39m \u001b[43m    \u001b[49m\u001b[43mheaders\u001b[49m\u001b[43m=\u001b[49m\u001b[43mheaders\u001b[49m\u001b[43m,\u001b[49m\n\u001b[32m    794\u001b[39m \u001b[43m    \u001b[49m\u001b[43mchunked\u001b[49m\u001b[43m=\u001b[49m\u001b[43mchunked\u001b[49m\u001b[43m,\u001b[49m\n\u001b[32m    795\u001b[39m \u001b[43m    \u001b[49m\u001b[43mretries\u001b[49m\u001b[43m=\u001b[49m\u001b[43mretries\u001b[49m\u001b[43m,\u001b[49m\n\u001b[32m    796\u001b[39m \u001b[43m    \u001b[49m\u001b[43mresponse_conn\u001b[49m\u001b[43m=\u001b[49m\u001b[43mresponse_conn\u001b[49m\u001b[43m,\u001b[49m\n\u001b[32m    797\u001b[39m \u001b[43m    \u001b[49m\u001b[43mpreload_content\u001b[49m\u001b[43m=\u001b[49m\u001b[43mpreload_content\u001b[49m\u001b[43m,\u001b[49m\n\u001b[32m    798\u001b[39m \u001b[43m    \u001b[49m\u001b[43mdecode_content\u001b[49m\u001b[43m=\u001b[49m\u001b[43mdecode_content\u001b[49m\u001b[43m,\u001b[49m\n\u001b[32m    799\u001b[39m \u001b[43m    \u001b[49m\u001b[43m*\u001b[49m\u001b[43m*\u001b[49m\u001b[43mresponse_kw\u001b[49m\u001b[43m,\u001b[49m\n\u001b[32m    800\u001b[39m \u001b[43m\u001b[49m\u001b[43m)\u001b[49m\n\u001b[32m    802\u001b[39m \u001b[38;5;66;03m# Everything went great!\u001b[39;00m\n",
      "\u001b[36mFile \u001b[39m\u001b[32m/workspaces/playground_ai/.venv/lib/python3.12/site-packages/urllib3/connectionpool.py:488\u001b[39m, in \u001b[36mHTTPConnectionPool._make_request\u001b[39m\u001b[34m(self, conn, method, url, body, headers, retries, timeout, chunked, response_conn, preload_content, decode_content, enforce_content_length)\u001b[39m\n\u001b[32m    487\u001b[39m         new_e = _wrap_proxy_error(new_e, conn.proxy.scheme)\n\u001b[32m--> \u001b[39m\u001b[32m488\u001b[39m     \u001b[38;5;28;01mraise\u001b[39;00m new_e\n\u001b[32m    490\u001b[39m \u001b[38;5;66;03m# conn.request() calls http.client.*.request, not the method in\u001b[39;00m\n\u001b[32m    491\u001b[39m \u001b[38;5;66;03m# urllib3.request. It also calls makefile (recv) on the socket.\u001b[39;00m\n",
      "\u001b[36mFile \u001b[39m\u001b[32m/workspaces/playground_ai/.venv/lib/python3.12/site-packages/urllib3/connectionpool.py:464\u001b[39m, in \u001b[36mHTTPConnectionPool._make_request\u001b[39m\u001b[34m(self, conn, method, url, body, headers, retries, timeout, chunked, response_conn, preload_content, decode_content, enforce_content_length)\u001b[39m\n\u001b[32m    463\u001b[39m \u001b[38;5;28;01mtry\u001b[39;00m:\n\u001b[32m--> \u001b[39m\u001b[32m464\u001b[39m     \u001b[38;5;28;43mself\u001b[39;49m\u001b[43m.\u001b[49m\u001b[43m_validate_conn\u001b[49m\u001b[43m(\u001b[49m\u001b[43mconn\u001b[49m\u001b[43m)\u001b[49m\n\u001b[32m    465\u001b[39m \u001b[38;5;28;01mexcept\u001b[39;00m (SocketTimeout, BaseSSLError) \u001b[38;5;28;01mas\u001b[39;00m e:\n",
      "\u001b[36mFile \u001b[39m\u001b[32m/workspaces/playground_ai/.venv/lib/python3.12/site-packages/urllib3/connectionpool.py:1093\u001b[39m, in \u001b[36mHTTPSConnectionPool._validate_conn\u001b[39m\u001b[34m(self, conn)\u001b[39m\n\u001b[32m   1092\u001b[39m \u001b[38;5;28;01mif\u001b[39;00m conn.is_closed:\n\u001b[32m-> \u001b[39m\u001b[32m1093\u001b[39m     \u001b[43mconn\u001b[49m\u001b[43m.\u001b[49m\u001b[43mconnect\u001b[49m\u001b[43m(\u001b[49m\u001b[43m)\u001b[49m\n\u001b[32m   1095\u001b[39m \u001b[38;5;66;03m# TODO revise this, see https://github.com/urllib3/urllib3/issues/2791\u001b[39;00m\n",
      "\u001b[36mFile \u001b[39m\u001b[32m/workspaces/playground_ai/.venv/lib/python3.12/site-packages/urllib3/connection.py:753\u001b[39m, in \u001b[36mHTTPSConnection.connect\u001b[39m\u001b[34m(self)\u001b[39m\n\u001b[32m    752\u001b[39m sock: socket.socket | ssl.SSLSocket\n\u001b[32m--> \u001b[39m\u001b[32m753\u001b[39m \u001b[38;5;28mself\u001b[39m.sock = sock = \u001b[38;5;28;43mself\u001b[39;49m\u001b[43m.\u001b[49m\u001b[43m_new_conn\u001b[49m\u001b[43m(\u001b[49m\u001b[43m)\u001b[49m\n\u001b[32m    754\u001b[39m server_hostname: \u001b[38;5;28mstr\u001b[39m = \u001b[38;5;28mself\u001b[39m.host\n",
      "\u001b[36mFile \u001b[39m\u001b[32m/workspaces/playground_ai/.venv/lib/python3.12/site-packages/urllib3/connection.py:205\u001b[39m, in \u001b[36mHTTPConnection._new_conn\u001b[39m\u001b[34m(self)\u001b[39m\n\u001b[32m    204\u001b[39m \u001b[38;5;28;01mexcept\u001b[39;00m socket.gaierror \u001b[38;5;28;01mas\u001b[39;00m e:\n\u001b[32m--> \u001b[39m\u001b[32m205\u001b[39m     \u001b[38;5;28;01mraise\u001b[39;00m NameResolutionError(\u001b[38;5;28mself\u001b[39m.host, \u001b[38;5;28mself\u001b[39m, e) \u001b[38;5;28;01mfrom\u001b[39;00m\u001b[38;5;250m \u001b[39m\u001b[34;01me\u001b[39;00m\n\u001b[32m    206\u001b[39m \u001b[38;5;28;01mexcept\u001b[39;00m SocketTimeout \u001b[38;5;28;01mas\u001b[39;00m e:\n",
      "\u001b[31mNameResolutionError\u001b[39m: <urllib3.connection.HTTPSConnection object at 0xffff986821e0>: Failed to resolve 'dav.icloud.com' ([Errno -2] Name or service not known)",
      "\nThe above exception was the direct cause of the following exception:\n",
      "\u001b[31mMaxRetryError\u001b[39m                             Traceback (most recent call last)",
      "\u001b[36mFile \u001b[39m\u001b[32m/workspaces/playground_ai/.venv/lib/python3.12/site-packages/requests/adapters.py:644\u001b[39m, in \u001b[36mHTTPAdapter.send\u001b[39m\u001b[34m(self, request, stream, timeout, verify, cert, proxies)\u001b[39m\n\u001b[32m    643\u001b[39m \u001b[38;5;28;01mtry\u001b[39;00m:\n\u001b[32m--> \u001b[39m\u001b[32m644\u001b[39m     resp = \u001b[43mconn\u001b[49m\u001b[43m.\u001b[49m\u001b[43murlopen\u001b[49m\u001b[43m(\u001b[49m\n\u001b[32m    645\u001b[39m \u001b[43m        \u001b[49m\u001b[43mmethod\u001b[49m\u001b[43m=\u001b[49m\u001b[43mrequest\u001b[49m\u001b[43m.\u001b[49m\u001b[43mmethod\u001b[49m\u001b[43m,\u001b[49m\n\u001b[32m    646\u001b[39m \u001b[43m        \u001b[49m\u001b[43murl\u001b[49m\u001b[43m=\u001b[49m\u001b[43murl\u001b[49m\u001b[43m,\u001b[49m\n\u001b[32m    647\u001b[39m \u001b[43m        \u001b[49m\u001b[43mbody\u001b[49m\u001b[43m=\u001b[49m\u001b[43mrequest\u001b[49m\u001b[43m.\u001b[49m\u001b[43mbody\u001b[49m\u001b[43m,\u001b[49m\n\u001b[32m    648\u001b[39m \u001b[43m        \u001b[49m\u001b[43mheaders\u001b[49m\u001b[43m=\u001b[49m\u001b[43mrequest\u001b[49m\u001b[43m.\u001b[49m\u001b[43mheaders\u001b[49m\u001b[43m,\u001b[49m\n\u001b[32m    649\u001b[39m \u001b[43m        \u001b[49m\u001b[43mredirect\u001b[49m\u001b[43m=\u001b[49m\u001b[38;5;28;43;01mFalse\u001b[39;49;00m\u001b[43m,\u001b[49m\n\u001b[32m    650\u001b[39m \u001b[43m        \u001b[49m\u001b[43massert_same_host\u001b[49m\u001b[43m=\u001b[49m\u001b[38;5;28;43;01mFalse\u001b[39;49;00m\u001b[43m,\u001b[49m\n\u001b[32m    651\u001b[39m \u001b[43m        \u001b[49m\u001b[43mpreload_content\u001b[49m\u001b[43m=\u001b[49m\u001b[38;5;28;43;01mFalse\u001b[39;49;00m\u001b[43m,\u001b[49m\n\u001b[32m    652\u001b[39m \u001b[43m        \u001b[49m\u001b[43mdecode_content\u001b[49m\u001b[43m=\u001b[49m\u001b[38;5;28;43;01mFalse\u001b[39;49;00m\u001b[43m,\u001b[49m\n\u001b[32m    653\u001b[39m \u001b[43m        \u001b[49m\u001b[43mretries\u001b[49m\u001b[43m=\u001b[49m\u001b[38;5;28;43mself\u001b[39;49m\u001b[43m.\u001b[49m\u001b[43mmax_retries\u001b[49m\u001b[43m,\u001b[49m\n\u001b[32m    654\u001b[39m \u001b[43m        \u001b[49m\u001b[43mtimeout\u001b[49m\u001b[43m=\u001b[49m\u001b[43mtimeout\u001b[49m\u001b[43m,\u001b[49m\n\u001b[32m    655\u001b[39m \u001b[43m        \u001b[49m\u001b[43mchunked\u001b[49m\u001b[43m=\u001b[49m\u001b[43mchunked\u001b[49m\u001b[43m,\u001b[49m\n\u001b[32m    656\u001b[39m \u001b[43m    \u001b[49m\u001b[43m)\u001b[49m\n\u001b[32m    658\u001b[39m \u001b[38;5;28;01mexcept\u001b[39;00m (ProtocolError, \u001b[38;5;167;01mOSError\u001b[39;00m) \u001b[38;5;28;01mas\u001b[39;00m err:\n",
      "\u001b[36mFile \u001b[39m\u001b[32m/workspaces/playground_ai/.venv/lib/python3.12/site-packages/urllib3/connectionpool.py:841\u001b[39m, in \u001b[36mHTTPConnectionPool.urlopen\u001b[39m\u001b[34m(self, method, url, body, headers, retries, redirect, assert_same_host, timeout, pool_timeout, release_conn, chunked, body_pos, preload_content, decode_content, **response_kw)\u001b[39m\n\u001b[32m    839\u001b[39m     new_e = ProtocolError(\u001b[33m\"\u001b[39m\u001b[33mConnection aborted.\u001b[39m\u001b[33m\"\u001b[39m, new_e)\n\u001b[32m--> \u001b[39m\u001b[32m841\u001b[39m retries = \u001b[43mretries\u001b[49m\u001b[43m.\u001b[49m\u001b[43mincrement\u001b[49m\u001b[43m(\u001b[49m\n\u001b[32m    842\u001b[39m \u001b[43m    \u001b[49m\u001b[43mmethod\u001b[49m\u001b[43m,\u001b[49m\u001b[43m \u001b[49m\u001b[43murl\u001b[49m\u001b[43m,\u001b[49m\u001b[43m \u001b[49m\u001b[43merror\u001b[49m\u001b[43m=\u001b[49m\u001b[43mnew_e\u001b[49m\u001b[43m,\u001b[49m\u001b[43m \u001b[49m\u001b[43m_pool\u001b[49m\u001b[43m=\u001b[49m\u001b[38;5;28;43mself\u001b[39;49m\u001b[43m,\u001b[49m\u001b[43m \u001b[49m\u001b[43m_stacktrace\u001b[49m\u001b[43m=\u001b[49m\u001b[43msys\u001b[49m\u001b[43m.\u001b[49m\u001b[43mexc_info\u001b[49m\u001b[43m(\u001b[49m\u001b[43m)\u001b[49m\u001b[43m[\u001b[49m\u001b[32;43m2\u001b[39;49m\u001b[43m]\u001b[49m\n\u001b[32m    843\u001b[39m \u001b[43m\u001b[49m\u001b[43m)\u001b[49m\n\u001b[32m    844\u001b[39m retries.sleep()\n",
      "\u001b[36mFile \u001b[39m\u001b[32m/workspaces/playground_ai/.venv/lib/python3.12/site-packages/urllib3/util/retry.py:519\u001b[39m, in \u001b[36mRetry.increment\u001b[39m\u001b[34m(self, method, url, response, error, _pool, _stacktrace)\u001b[39m\n\u001b[32m    518\u001b[39m     reason = error \u001b[38;5;129;01mor\u001b[39;00m ResponseError(cause)\n\u001b[32m--> \u001b[39m\u001b[32m519\u001b[39m     \u001b[38;5;28;01mraise\u001b[39;00m MaxRetryError(_pool, url, reason) \u001b[38;5;28;01mfrom\u001b[39;00m\u001b[38;5;250m \u001b[39m\u001b[34;01mreason\u001b[39;00m  \u001b[38;5;66;03m# type: ignore[arg-type]\u001b[39;00m\n\u001b[32m    521\u001b[39m log.debug(\u001b[33m\"\u001b[39m\u001b[33mIncremented Retry for (url=\u001b[39m\u001b[33m'\u001b[39m\u001b[38;5;132;01m%s\u001b[39;00m\u001b[33m'\u001b[39m\u001b[33m): \u001b[39m\u001b[38;5;132;01m%r\u001b[39;00m\u001b[33m\"\u001b[39m, url, new_retry)\n",
      "\u001b[31mMaxRetryError\u001b[39m: HTTPSConnectionPool(host='dav.icloud.com', port=443): Max retries exceeded with url: / (Caused by NameResolutionError(\"<urllib3.connection.HTTPSConnection object at 0xffff986821e0>: Failed to resolve 'dav.icloud.com' ([Errno -2] Name or service not known)\"))",
      "\nDuring handling of the above exception, another exception occurred:\n",
      "\u001b[31mConnectionError\u001b[39m                           Traceback (most recent call last)",
      "\u001b[36mCell\u001b[39m\u001b[36m \u001b[39m\u001b[32mIn[11]\u001b[39m\u001b[32m, line 9\u001b[39m\n\u001b[32m      2\u001b[39m client = DAVClient(\n\u001b[32m      3\u001b[39m     url=\u001b[33m\"\u001b[39m\u001b[33mhttps://dav.icloud.com/\u001b[39m\u001b[33m\"\u001b[39m,\n\u001b[32m      4\u001b[39m     username=username,\n\u001b[32m      5\u001b[39m     password=app_specific_password\n\u001b[32m      6\u001b[39m )\n\u001b[32m      8\u001b[39m \u001b[38;5;66;03m# Get calendar\u001b[39;00m\n\u001b[32m----> \u001b[39m\u001b[32m9\u001b[39m cal = \u001b[43mclient\u001b[49m\u001b[43m.\u001b[49m\u001b[43mprincipal\u001b[49m\u001b[43m(\u001b[49m\u001b[43m)\u001b[49m.calendars()[\u001b[32m0\u001b[39m]\n\u001b[32m     11\u001b[39m \u001b[38;5;66;03m# Set timezone and create event\u001b[39;00m\n\u001b[32m     12\u001b[39m mst = pytz.timezone(\u001b[33m'\u001b[39m\u001b[33mAmerica/Denver\u001b[39m\u001b[33m'\u001b[39m)\n",
      "\u001b[36mFile \u001b[39m\u001b[32m/workspaces/playground_ai/.venv/lib/python3.12/site-packages/caldav/davclient.py:634\u001b[39m, in \u001b[36mDAVClient.principal\u001b[39m\u001b[34m(self, *largs, **kwargs)\u001b[39m\n\u001b[32m    625\u001b[39m \u001b[38;5;250m\u001b[39m\u001b[33;03m\"\"\"\u001b[39;00m\n\u001b[32m    626\u001b[39m \u001b[33;03mConvenience method, it gives a bit more object-oriented feel to\u001b[39;00m\n\u001b[32m    627\u001b[39m \u001b[33;03mwrite client.principal() than Principal(client).\u001b[39;00m\n\u001b[32m   (...)\u001b[39m\u001b[32m    631\u001b[39m \u001b[33;03mcalendars.\u001b[39;00m\n\u001b[32m    632\u001b[39m \u001b[33;03m\"\"\"\u001b[39;00m\n\u001b[32m    633\u001b[39m \u001b[38;5;28;01mif\u001b[39;00m \u001b[38;5;129;01mnot\u001b[39;00m \u001b[38;5;28mself\u001b[39m._principal:\n\u001b[32m--> \u001b[39m\u001b[32m634\u001b[39m     \u001b[38;5;28mself\u001b[39m._principal = \u001b[43mPrincipal\u001b[49m\u001b[43m(\u001b[49m\u001b[43mclient\u001b[49m\u001b[43m=\u001b[49m\u001b[38;5;28;43mself\u001b[39;49m\u001b[43m,\u001b[49m\u001b[43m \u001b[49m\u001b[43m*\u001b[49m\u001b[43mlargs\u001b[49m\u001b[43m,\u001b[49m\u001b[43m \u001b[49m\u001b[43m*\u001b[49m\u001b[43m*\u001b[49m\u001b[43mkwargs\u001b[49m\u001b[43m)\u001b[49m\n\u001b[32m    635\u001b[39m \u001b[38;5;28;01mreturn\u001b[39;00m \u001b[38;5;28mself\u001b[39m._principal\n",
      "\u001b[36mFile \u001b[39m\u001b[32m/workspaces/playground_ai/.venv/lib/python3.12/site-packages/caldav/collection.py:234\u001b[39m, in \u001b[36mPrincipal.__init__\u001b[39m\u001b[34m(self, client, url, calendar_home_set, **kwargs)\u001b[39m\n\u001b[32m    231\u001b[39m     \u001b[38;5;28;01mraise\u001b[39;00m \u001b[38;5;167;01mValueError\u001b[39;00m(\u001b[33m\"\u001b[39m\u001b[33mUnexpected value None for self.client\u001b[39m\u001b[33m\"\u001b[39m)\n\u001b[32m    233\u001b[39m \u001b[38;5;28mself\u001b[39m.url = \u001b[38;5;28mself\u001b[39m.client.url\n\u001b[32m--> \u001b[39m\u001b[32m234\u001b[39m cup = \u001b[38;5;28;43mself\u001b[39;49m\u001b[43m.\u001b[49m\u001b[43mget_property\u001b[49m\u001b[43m(\u001b[49m\u001b[43mdav\u001b[49m\u001b[43m.\u001b[49m\u001b[43mCurrentUserPrincipal\u001b[49m\u001b[43m(\u001b[49m\u001b[43m)\u001b[49m\u001b[43m)\u001b[49m\n\u001b[32m    236\u001b[39m \u001b[38;5;28;01mif\u001b[39;00m cup \u001b[38;5;129;01mis\u001b[39;00m \u001b[38;5;28;01mNone\u001b[39;00m:\n\u001b[32m    237\u001b[39m     log.warning(\u001b[33m\"\u001b[39m\u001b[33mcalendar server lacking a feature:\u001b[39m\u001b[33m\"\u001b[39m)\n",
      "\u001b[36mFile \u001b[39m\u001b[32m/workspaces/playground_ai/.venv/lib/python3.12/site-packages/caldav/davobject.py:259\u001b[39m, in \u001b[36mDAVObject.get_property\u001b[39m\u001b[34m(self, prop, use_cached, **passthrough)\u001b[39m\n\u001b[32m    257\u001b[39m     \u001b[38;5;28;01mif\u001b[39;00m prop.tag \u001b[38;5;129;01min\u001b[39;00m \u001b[38;5;28mself\u001b[39m.props:\n\u001b[32m    258\u001b[39m         \u001b[38;5;28;01mreturn\u001b[39;00m \u001b[38;5;28mself\u001b[39m.props[prop.tag]\n\u001b[32m--> \u001b[39m\u001b[32m259\u001b[39m foo = \u001b[38;5;28;43mself\u001b[39;49m\u001b[43m.\u001b[49m\u001b[43mget_properties\u001b[49m\u001b[43m(\u001b[49m\u001b[43m[\u001b[49m\u001b[43mprop\u001b[49m\u001b[43m]\u001b[49m\u001b[43m,\u001b[49m\u001b[43m \u001b[49m\u001b[43m*\u001b[49m\u001b[43m*\u001b[49m\u001b[43mpassthrough\u001b[49m\u001b[43m)\u001b[49m\n\u001b[32m    260\u001b[39m \u001b[38;5;28;01mreturn\u001b[39;00m foo.get(prop.tag, \u001b[38;5;28;01mNone\u001b[39;00m)\n",
      "\u001b[36mFile \u001b[39m\u001b[32m/workspaces/playground_ai/.venv/lib/python3.12/site-packages/caldav/davobject.py:290\u001b[39m, in \u001b[36mDAVObject.get_properties\u001b[39m\u001b[34m(self, props, depth, parse_response_xml, parse_props)\u001b[39m\n\u001b[32m    287\u001b[39m \u001b[38;5;28;01mfrom\u001b[39;00m\u001b[38;5;250m \u001b[39m\u001b[34;01m.\u001b[39;00m\u001b[34;01mcollection\u001b[39;00m\u001b[38;5;250m \u001b[39m\u001b[38;5;28;01mimport\u001b[39;00m Principal  \u001b[38;5;66;03m## late import to avoid cyclic dependencies\u001b[39;00m\n\u001b[32m    289\u001b[39m rc = \u001b[38;5;28;01mNone\u001b[39;00m\n\u001b[32m--> \u001b[39m\u001b[32m290\u001b[39m response = \u001b[38;5;28;43mself\u001b[39;49m\u001b[43m.\u001b[49m\u001b[43m_query_properties\u001b[49m\u001b[43m(\u001b[49m\u001b[43mprops\u001b[49m\u001b[43m,\u001b[49m\u001b[43m \u001b[49m\u001b[43mdepth\u001b[49m\u001b[43m)\u001b[49m\n\u001b[32m    291\u001b[39m \u001b[38;5;28;01mif\u001b[39;00m \u001b[38;5;129;01mnot\u001b[39;00m parse_response_xml:\n\u001b[32m    292\u001b[39m     \u001b[38;5;28;01mreturn\u001b[39;00m response\n",
      "\u001b[36mFile \u001b[39m\u001b[32m/workspaces/playground_ai/.venv/lib/python3.12/site-packages/caldav/davobject.py:191\u001b[39m, in \u001b[36mDAVObject._query_properties\u001b[39m\u001b[34m(self, props, depth)\u001b[39m\n\u001b[32m    188\u001b[39m     prop = dav.Prop() + props\n\u001b[32m    189\u001b[39m     root = dav.Propfind() + prop\n\u001b[32m--> \u001b[39m\u001b[32m191\u001b[39m \u001b[38;5;28;01mreturn\u001b[39;00m \u001b[38;5;28;43mself\u001b[39;49m\u001b[43m.\u001b[49m\u001b[43m_query\u001b[49m\u001b[43m(\u001b[49m\u001b[43mroot\u001b[49m\u001b[43m,\u001b[49m\u001b[43m \u001b[49m\u001b[43mdepth\u001b[49m\u001b[43m)\u001b[49m\n",
      "\u001b[36mFile \u001b[39m\u001b[32m/workspaces/playground_ai/.venv/lib/python3.12/site-packages/caldav/davobject.py:219\u001b[39m, in \u001b[36mDAVObject._query\u001b[39m\u001b[34m(self, root, depth, query_method, url, expected_return_value)\u001b[39m\n\u001b[32m    217\u001b[39m \u001b[38;5;28;01mif\u001b[39;00m url \u001b[38;5;129;01mis\u001b[39;00m \u001b[38;5;28;01mNone\u001b[39;00m:\n\u001b[32m    218\u001b[39m     url = \u001b[38;5;28mself\u001b[39m.url\n\u001b[32m--> \u001b[39m\u001b[32m219\u001b[39m ret = \u001b[38;5;28;43mgetattr\u001b[39;49m\u001b[43m(\u001b[49m\u001b[38;5;28;43mself\u001b[39;49m\u001b[43m.\u001b[49m\u001b[43mclient\u001b[49m\u001b[43m,\u001b[49m\u001b[43m \u001b[49m\u001b[43mquery_method\u001b[49m\u001b[43m)\u001b[49m\u001b[43m(\u001b[49m\u001b[43murl\u001b[49m\u001b[43m,\u001b[49m\u001b[43m \u001b[49m\u001b[43mbody\u001b[49m\u001b[43m,\u001b[49m\u001b[43m \u001b[49m\u001b[43mdepth\u001b[49m\u001b[43m)\u001b[49m\n\u001b[32m    220\u001b[39m \u001b[38;5;28;01mif\u001b[39;00m ret.status == \u001b[32m404\u001b[39m:\n\u001b[32m    221\u001b[39m     \u001b[38;5;28;01mraise\u001b[39;00m error.NotFoundError(errmsg(ret))\n",
      "\u001b[36mFile \u001b[39m\u001b[32m/workspaces/playground_ai/.venv/lib/python3.12/site-packages/caldav/davclient.py:698\u001b[39m, in \u001b[36mDAVClient.propfind\u001b[39m\u001b[34m(self, url, props, depth)\u001b[39m\n\u001b[32m    679\u001b[39m \u001b[38;5;28;01mdef\u001b[39;00m\u001b[38;5;250m \u001b[39m\u001b[34mpropfind\u001b[39m(\n\u001b[32m    680\u001b[39m     \u001b[38;5;28mself\u001b[39m, url: Optional[\u001b[38;5;28mstr\u001b[39m] = \u001b[38;5;28;01mNone\u001b[39;00m, props: \u001b[38;5;28mstr\u001b[39m = \u001b[33m\"\u001b[39m\u001b[33m\"\u001b[39m, depth: \u001b[38;5;28mint\u001b[39m = \u001b[32m0\u001b[39m\n\u001b[32m    681\u001b[39m ) -> DAVResponse:\n\u001b[32m    682\u001b[39m \u001b[38;5;250m    \u001b[39m\u001b[33;03m\"\"\"\u001b[39;00m\n\u001b[32m    683\u001b[39m \u001b[33;03m    Send a propfind request.\u001b[39;00m\n\u001b[32m    684\u001b[39m \n\u001b[32m   (...)\u001b[39m\u001b[32m    696\u001b[39m \u001b[33;03m    DAVResponse\u001b[39;00m\n\u001b[32m    697\u001b[39m \u001b[33;03m    \"\"\"\u001b[39;00m\n\u001b[32m--> \u001b[39m\u001b[32m698\u001b[39m     \u001b[38;5;28;01mreturn\u001b[39;00m \u001b[38;5;28;43mself\u001b[39;49m\u001b[43m.\u001b[49m\u001b[43mrequest\u001b[49m\u001b[43m(\u001b[49m\n\u001b[32m    699\u001b[39m \u001b[43m        \u001b[49m\u001b[43murl\u001b[49m\u001b[43m \u001b[49m\u001b[38;5;129;43;01mor\u001b[39;49;00m\u001b[43m \u001b[49m\u001b[38;5;28;43mstr\u001b[39;49m\u001b[43m(\u001b[49m\u001b[38;5;28;43mself\u001b[39;49m\u001b[43m.\u001b[49m\u001b[43murl\u001b[49m\u001b[43m)\u001b[49m\u001b[43m,\u001b[49m\u001b[43m \u001b[49m\u001b[33;43m\"\u001b[39;49m\u001b[33;43mPROPFIND\u001b[39;49m\u001b[33;43m\"\u001b[39;49m\u001b[43m,\u001b[49m\u001b[43m \u001b[49m\u001b[43mprops\u001b[49m\u001b[43m,\u001b[49m\u001b[43m \u001b[49m\u001b[43m{\u001b[49m\u001b[33;43m\"\u001b[39;49m\u001b[33;43mDepth\u001b[39;49m\u001b[33;43m\"\u001b[39;49m\u001b[43m:\u001b[49m\u001b[43m \u001b[49m\u001b[38;5;28;43mstr\u001b[39;49m\u001b[43m(\u001b[49m\u001b[43mdepth\u001b[49m\u001b[43m)\u001b[49m\u001b[43m}\u001b[49m\n\u001b[32m    700\u001b[39m \u001b[43m    \u001b[49m\u001b[43m)\u001b[49m\n",
      "\u001b[36mFile \u001b[39m\u001b[32m/workspaces/playground_ai/.venv/lib/python3.12/site-packages/caldav/davclient.py:921\u001b[39m, in \u001b[36mDAVClient.request\u001b[39m\u001b[34m(self, url, method, body, headers)\u001b[39m\n\u001b[32m    919\u001b[39m \u001b[38;5;28;01mif\u001b[39;00m \u001b[38;5;28mself\u001b[39m.auth \u001b[38;5;129;01mor\u001b[39;00m \u001b[38;5;129;01mnot\u001b[39;00m \u001b[38;5;28mself\u001b[39m.password:\n\u001b[32m    920\u001b[39m     \u001b[38;5;28;01mraise\u001b[39;00m\n\u001b[32m--> \u001b[39m\u001b[32m921\u001b[39m r = \u001b[38;5;28;43mself\u001b[39;49m\u001b[43m.\u001b[49m\u001b[43msession\u001b[49m\u001b[43m.\u001b[49m\u001b[43mrequest\u001b[49m\u001b[43m(\u001b[49m\n\u001b[32m    922\u001b[39m \u001b[43m    \u001b[49m\u001b[43mmethod\u001b[49m\u001b[43m=\u001b[49m\u001b[33;43m\"\u001b[39;49m\u001b[33;43mGET\u001b[39;49m\u001b[33;43m\"\u001b[39;49m\u001b[43m,\u001b[49m\n\u001b[32m    923\u001b[39m \u001b[43m    \u001b[49m\u001b[43murl\u001b[49m\u001b[43m=\u001b[49m\u001b[38;5;28;43mstr\u001b[39;49m\u001b[43m(\u001b[49m\u001b[43murl_obj\u001b[49m\u001b[43m)\u001b[49m\u001b[43m,\u001b[49m\n\u001b[32m    924\u001b[39m \u001b[43m    \u001b[49m\u001b[43mheaders\u001b[49m\u001b[43m=\u001b[49m\u001b[43mcombined_headers\u001b[49m\u001b[43m,\u001b[49m\n\u001b[32m    925\u001b[39m \u001b[43m    \u001b[49m\u001b[43mproxies\u001b[49m\u001b[43m=\u001b[49m\u001b[43mproxies\u001b[49m\u001b[43m,\u001b[49m\n\u001b[32m    926\u001b[39m \u001b[43m    \u001b[49m\u001b[43mtimeout\u001b[49m\u001b[43m=\u001b[49m\u001b[38;5;28;43mself\u001b[39;49m\u001b[43m.\u001b[49m\u001b[43mtimeout\u001b[49m\u001b[43m,\u001b[49m\n\u001b[32m    927\u001b[39m \u001b[43m    \u001b[49m\u001b[43mverify\u001b[49m\u001b[43m=\u001b[49m\u001b[38;5;28;43mself\u001b[39;49m\u001b[43m.\u001b[49m\u001b[43mssl_verify_cert\u001b[49m\u001b[43m,\u001b[49m\n\u001b[32m    928\u001b[39m \u001b[43m    \u001b[49m\u001b[43mcert\u001b[49m\u001b[43m=\u001b[49m\u001b[38;5;28;43mself\u001b[39;49m\u001b[43m.\u001b[49m\u001b[43mssl_cert\u001b[49m\u001b[43m,\u001b[49m\n\u001b[32m    929\u001b[39m \u001b[43m\u001b[49m\u001b[43m)\u001b[49m\n\u001b[32m    930\u001b[39m \u001b[38;5;28;01mif\u001b[39;00m \u001b[38;5;129;01mnot\u001b[39;00m r.status_code == \u001b[32m401\u001b[39m:\n\u001b[32m    931\u001b[39m     \u001b[38;5;28;01mraise\u001b[39;00m\n",
      "\u001b[36mFile \u001b[39m\u001b[32m/workspaces/playground_ai/.venv/lib/python3.12/site-packages/requests/sessions.py:589\u001b[39m, in \u001b[36mSession.request\u001b[39m\u001b[34m(self, method, url, params, data, headers, cookies, files, auth, timeout, allow_redirects, proxies, hooks, stream, verify, cert, json)\u001b[39m\n\u001b[32m    584\u001b[39m send_kwargs = {\n\u001b[32m    585\u001b[39m     \u001b[33m\"\u001b[39m\u001b[33mtimeout\u001b[39m\u001b[33m\"\u001b[39m: timeout,\n\u001b[32m    586\u001b[39m     \u001b[33m\"\u001b[39m\u001b[33mallow_redirects\u001b[39m\u001b[33m\"\u001b[39m: allow_redirects,\n\u001b[32m    587\u001b[39m }\n\u001b[32m    588\u001b[39m send_kwargs.update(settings)\n\u001b[32m--> \u001b[39m\u001b[32m589\u001b[39m resp = \u001b[38;5;28;43mself\u001b[39;49m\u001b[43m.\u001b[49m\u001b[43msend\u001b[49m\u001b[43m(\u001b[49m\u001b[43mprep\u001b[49m\u001b[43m,\u001b[49m\u001b[43m \u001b[49m\u001b[43m*\u001b[49m\u001b[43m*\u001b[49m\u001b[43msend_kwargs\u001b[49m\u001b[43m)\u001b[49m\n\u001b[32m    591\u001b[39m \u001b[38;5;28;01mreturn\u001b[39;00m resp\n",
      "\u001b[36mFile \u001b[39m\u001b[32m/workspaces/playground_ai/.venv/lib/python3.12/site-packages/requests/sessions.py:703\u001b[39m, in \u001b[36mSession.send\u001b[39m\u001b[34m(self, request, **kwargs)\u001b[39m\n\u001b[32m    700\u001b[39m start = preferred_clock()\n\u001b[32m    702\u001b[39m \u001b[38;5;66;03m# Send the request\u001b[39;00m\n\u001b[32m--> \u001b[39m\u001b[32m703\u001b[39m r = \u001b[43madapter\u001b[49m\u001b[43m.\u001b[49m\u001b[43msend\u001b[49m\u001b[43m(\u001b[49m\u001b[43mrequest\u001b[49m\u001b[43m,\u001b[49m\u001b[43m \u001b[49m\u001b[43m*\u001b[49m\u001b[43m*\u001b[49m\u001b[43mkwargs\u001b[49m\u001b[43m)\u001b[49m\n\u001b[32m    705\u001b[39m \u001b[38;5;66;03m# Total elapsed time of the request (approximately)\u001b[39;00m\n\u001b[32m    706\u001b[39m elapsed = preferred_clock() - start\n",
      "\u001b[36mFile \u001b[39m\u001b[32m/workspaces/playground_ai/.venv/lib/python3.12/site-packages/requests/adapters.py:677\u001b[39m, in \u001b[36mHTTPAdapter.send\u001b[39m\u001b[34m(self, request, stream, timeout, verify, cert, proxies)\u001b[39m\n\u001b[32m    673\u001b[39m     \u001b[38;5;28;01mif\u001b[39;00m \u001b[38;5;28misinstance\u001b[39m(e.reason, _SSLError):\n\u001b[32m    674\u001b[39m         \u001b[38;5;66;03m# This branch is for urllib3 v1.22 and later.\u001b[39;00m\n\u001b[32m    675\u001b[39m         \u001b[38;5;28;01mraise\u001b[39;00m SSLError(e, request=request)\n\u001b[32m--> \u001b[39m\u001b[32m677\u001b[39m     \u001b[38;5;28;01mraise\u001b[39;00m \u001b[38;5;167;01mConnectionError\u001b[39;00m(e, request=request)\n\u001b[32m    679\u001b[39m \u001b[38;5;28;01mexcept\u001b[39;00m ClosedPoolError \u001b[38;5;28;01mas\u001b[39;00m e:\n\u001b[32m    680\u001b[39m     \u001b[38;5;28;01mraise\u001b[39;00m \u001b[38;5;167;01mConnectionError\u001b[39;00m(e, request=request)\n",
      "\u001b[31mConnectionError\u001b[39m: HTTPSConnectionPool(host='dav.icloud.com', port=443): Max retries exceeded with url: / (Caused by NameResolutionError(\"<urllib3.connection.HTTPSConnection object at 0xffff986821e0>: Failed to resolve 'dav.icloud.com' ([Errno -2] Name or service not known)\"))"
     ]
    }
   ],
   "source": [
    "\n",
    "# Connect\n",
    "client = DAVClient(\n",
    "    url=\"https://dav.icloud.com/\",\n",
    "    username=username,\n",
    "    password=app_specific_password\n",
    ")\n",
    "\n",
    "# Get calendar\n",
    "cal = client.principal().calendars()[0]\n",
    "\n",
    "# Set timezone and create event\n",
    "mst = pytz.timezone('America/Denver')\n",
    "start = mst.localize(datetime(2025, 10, 22, 12, 0))\n",
    "end = mst.localize(datetime(2025, 10, 22, 13, 0))\n",
    "\n",
    "# Create event\n",
    "event = cal.save_event(\n",
    "    dtstart=start,\n",
    "    dtend=end,\n",
    "    summary=\"Meeting with Team\",\n",
    "    location=\"Conference Room A\",\n",
    "    description=\"Quarterly review\"\n",
    ")\n",
    "\n",
    "print(f\"Event created: {event.url}\")\n"
   ]
  },
  {
   "cell_type": "code",
   "execution_count": 14,
   "id": "9dfd9a56",
   "metadata": {},
   "outputs": [],
   "source": [
    "conn = DAVClient(username=username, password=app_specific_password, url='https://caldav.icloud.com')\n",
    "principal = conn.principal()"
   ]
  },
  {
   "cell_type": "code",
   "execution_count": 15,
   "id": "b5826bc0",
   "metadata": {},
   "outputs": [
    {
     "data": {
      "text/plain": [
       "Principal(https://caldav.icloud.com/204582760/principal/)"
      ]
     },
     "execution_count": 15,
     "metadata": {},
     "output_type": "execute_result"
    }
   ],
   "source": [
    "principal"
   ]
  },
  {
   "cell_type": "code",
   "execution_count": null,
   "id": "c6037503",
   "metadata": {},
   "outputs": [],
   "source": [
    "import sys\n",
    "from datetime import date\n",
    "from datetime import datetime\n",
    "from datetime import timedelta\n",
    "\n",
    "## We'll try to use the local caldav library, not the system-installed\n",
    "sys.path.insert(0, \"..\")\n",
    "sys.path.insert(0, \".\")\n",
    "\n",
    "import caldav\n",
    "from caldav.davclient import get_davclient\n"
   ]
  },
  {
   "cell_type": "code",
   "execution_count": 22,
   "id": "b16b1c5d",
   "metadata": {},
   "outputs": [],
   "source": [
    "# iCloud credentials\n",
    "\n",
    "CALDAV_USER = os.environ.get(\"username\")\n",
    "CALDAV_PASSWORD = os.environ.get(\"password_calendar\")  # Generate at appleid.apple.com\n",
    "CALDAV_URL = 'https://caldav.icloud.com'"
   ]
  },
  {
   "cell_type": "code",
   "execution_count": 17,
   "id": "cb2978ef",
   "metadata": {},
   "outputs": [],
   "source": [
    "import sys\n",
    "from datetime import date\n",
    "from datetime import datetime\n",
    "from datetime import timedelta\n",
    "\n",
    "## We'll try to use the local caldav library, not the system-installed\n",
    "sys.path.insert(0, \"..\")\n",
    "sys.path.insert(0, \".\")\n",
    "\n",
    "import caldav\n",
    "from caldav.davclient import get_davclient\n",
    "\n",
    "## Connection parameters can be set in a configuration file or passed\n",
    "## as environmental variables.  The format of the configuration file\n",
    "## is described at\n",
    "## https://caldav.readthedocs.io/stable/configfile.html\n",
    "\n",
    "## To run this with environmental variables, you may do like this:\n",
    "\n",
    "# env CALDAV_USERNAME=xxx@qq.com \\\n",
    "#       CALDAV_PASSWORD=xxx \\\n",
    "#       CALDAV_URL=https://dav.qq.com/ \\\n",
    "#  python ./examples/basic_usage_examples.py\n",
    "\n",
    "\n",
    "## DO NOT name your file calendar.py or caldav.py!  We've had several\n",
    "## issues filed, things break because the wrong files are imported.\n",
    "## It's not a bug with the caldav library per se.\n",
    "\n",
    "\n",
    "def run_examples():\n",
    "    \"\"\"\n",
    "    Run through all the examples, one by one\n",
    "    \"\"\"\n",
    "    ## We need a client object.\n",
    "    ## The client object stores http session information, username, password, etc.\n",
    "    ## As of 1.0, Initiating the client object will not cause any server communication,\n",
    "    ## so the credentials aren't validated.\n",
    "    ## get_davclient will try to read credentials and url from environment variables\n",
    "    ## and config file.\n",
    "    ## The client object can be used as a context manager, like this:\n",
    "    with get_davclient() as client:\n",
    "        ## Typically the next step is to fetch a principal object.\n",
    "        ## This will cause communication with the server.\n",
    "        print(\"Connecting to the caldav server\")\n",
    "        my_principal = client.principal()\n",
    "\n",
    "        ## The principals calendars can be fetched like this:\n",
    "        calendars = my_principal.calendars()\n",
    "\n",
    "        ## print out some information\n",
    "        print_calendars_demo(calendars)\n",
    "\n",
    "        ## This cleans up from previous runs, if needed:\n",
    "        find_delete_calendar_demo(my_principal, \"Test calendar from caldav examples\")\n",
    "\n",
    "        ## Let's create a new calendar to play with.\n",
    "        ## This may raise an error for multiple reasons:\n",
    "        ## * server may not support it (it's not mandatory in the CalDAV RFC)\n",
    "        ## * principal may not have the permission to create calendars\n",
    "        ## * some cloud providers have a global namespace\n",
    "        my_new_calendar = my_principal.make_calendar(\n",
    "            name=\"Test calendar from caldav examples\"\n",
    "        )\n",
    "\n",
    "        ## Let's add some events to our newly created calendar\n",
    "        add_stuff_to_calendar_demo(my_new_calendar)\n",
    "\n",
    "        ## Let's find the stuff we just added to the calendar\n",
    "        event = search_calendar_demo(my_new_calendar)\n",
    "\n",
    "        ## Inspecting and modifying an event\n",
    "        read_modify_event_demo(event)\n",
    "\n",
    "        ## Accessing a calendar by a calendar URL\n",
    "        calendar_by_url_demo(client, my_new_calendar.url)\n",
    "\n",
    "        ## Clean up - delete things\n",
    "        ## (The event would normally be deleted together with the calendar,\n",
    "        ## but different calendar servers may behave differently ...)\n",
    "        event.delete()\n",
    "        my_new_calendar.delete()\n",
    "\n",
    "\n",
    "def print_calendars_demo(calendars):\n",
    "    \"\"\"\n",
    "    This example prints the name and URL for every calendar on the list\n",
    "    \"\"\"\n",
    "    if calendars:\n",
    "        ## Some calendar servers will include all calendars you have\n",
    "        ## access to in this list, and not only the calendars owned by\n",
    "        ## this principal.\n",
    "        print(\"your principal has %i calendars:\" % len(calendars))\n",
    "        for c in calendars:\n",
    "            print(\"    Name: %-36s  URL: %s\" % (c.name, c.url))\n",
    "    else:\n",
    "        print(\"your principal has no calendars\")\n",
    "\n",
    "\n",
    "def find_delete_calendar_demo(my_principal, calendar_name):\n",
    "    \"\"\"\n",
    "    This example takes a calendar name, finds the calendar if it\n",
    "    exists, and deletes the calendar if it exists.\n",
    "    \"\"\"\n",
    "    ## Let's try to find or create a calendar ...\n",
    "    try:\n",
    "        ## This will raise a NotFoundError if calendar does not exist\n",
    "        demo_calendar = my_principal.calendar(name=calendar_name)\n",
    "        assert demo_calendar\n",
    "        print(\n",
    "            f\"We found an existing calendar with name {calendar_name}, now deleting it\"\n",
    "        )\n",
    "        demo_calendar.delete()\n",
    "    except caldav.error.NotFoundError:\n",
    "        ## Calendar was not found\n",
    "        pass\n",
    "\n",
    "\n",
    "def add_stuff_to_calendar_demo(calendar):\n",
    "    \"\"\"\n",
    "    This demo adds some stuff to the calendar\n",
    "\n",
    "    Unfortunately the arguments that it's possible to pass to save_* is poorly documented.\n",
    "    https://github.com/python-caldav/caldav/issues/253\n",
    "    \"\"\"\n",
    "    ## Add an event with some certain attributes\n",
    "    print(\"Saving an event\")\n",
    "    may_event = calendar.save_event(\n",
    "        dtstart=datetime(2020, 5, 17, 6),\n",
    "        dtend=datetime(2020, 5, 18, 1),\n",
    "        summary=\"Do the needful\",\n",
    "        rrule={\"FREQ\": \"YEARLY\"},\n",
    "    )\n",
    "    print(\"Saved an event\")\n",
    "\n",
    "    ## not all calendars supports tasks ... but if it's supported, it should be\n",
    "    ## told here:\n",
    "    acceptable_component_types = calendar.get_supported_components()\n",
    "    assert \"VTODO\" in acceptable_component_types\n",
    "    print(\"tasks are supported by your calendar, saving one\")\n",
    "\n",
    "    ## Add a task that should contain some ical lines\n",
    "    ## Note that this may break on your server:\n",
    "    ## * not all servers accepts tasks and events mixed on the same calendar.\n",
    "    ## * not all servers accepts tasks at all\n",
    "    dec_task = calendar.save_todo(\n",
    "        ical_fragment=\"\"\"DTSTART;VALUE=DATE:20201213\n",
    "DUE;VALUE=DATE:20201220\n",
    "SUMMARY:Chop down a tree and drag it into the living room\n",
    "RRULE:FREQ=YEARLY\n",
    "PRIORITY: 2\n",
    "CATEGORIES: outdoor\"\"\"\n",
    "    )\n",
    "    print(\"Saved a task\")\n",
    "\n",
    "    ## ical_fragment parameter -> just some lines\n",
    "    ## ical parameter -> full ical object\n",
    "\n",
    "\n",
    "def search_calendar_demo(calendar):\n",
    "    \"\"\"\n",
    "    some examples on how to fetch objects from the calendar\n",
    "    \"\"\"\n",
    "    ## It should theoretically be possible to find both the events and\n",
    "    ## tasks in one calendar query, but not all server implementations\n",
    "    ## supports it, hence either event, todo or journal should be set\n",
    "    ## to True when searching.  Here is a date search for events, with\n",
    "    ## expand:\n",
    "    print(\"Searching for expanded events\")\n",
    "    events_fetched = calendar.search(\n",
    "        start=datetime.now(),\n",
    "        end=datetime(date.today().year + 5, 1, 1),\n",
    "        event=True,\n",
    "        expand=True,\n",
    "    )\n",
    "\n",
    "    ## \"expand\" causes the recurrences to be expanded.\n",
    "    ## The yearly event will give us one object for each year\n",
    "    assert len(events_fetched) > 1\n",
    "    print(f\"Found {len(events_fetched)} events\")\n",
    "\n",
    "    print(\"here is some ical data from the first one:\")\n",
    "    print(events_fetched[0].data)\n",
    "\n",
    "    ## We can also do the same thing without expand, then the \"master\"\n",
    "    ## from 2020 will be fetched\n",
    "    print(\"Searching for un expanded events\")\n",
    "    events_fetched = calendar.search(\n",
    "        start=datetime.now(),\n",
    "        end=datetime(date.today().year + 5, 1, 1),\n",
    "        event=True,\n",
    "        expand=False,\n",
    "    )\n",
    "    assert len(events_fetched) == 1\n",
    "    print(f\"Found {len(events_fetched)} event\")\n",
    "\n",
    "    ## search can be done by other things, i.e. keyword\n",
    "    print(\"Searching for tasks\")\n",
    "    # Note that Radicale fails when specifying a category pending\n",
    "    # https://github.com/Kozea/Radicale/pull/1277\n",
    "    tasks_fetched = calendar.search(todo=True, category=\"outdoor\")\n",
    "    assert len(tasks_fetched) == 1\n",
    "    print(f\"Found {len(tasks_fetched)} task\")\n",
    "\n",
    "    ## This those should also work:\n",
    "    print(\"Getting all objects from the calendar\")\n",
    "    all_objects = calendar.objects()\n",
    "    # updated_objects = calendar.objects_by_sync_token(some_sync_token)\n",
    "    # some_object = calendar.object_by_uid(some_uid)\n",
    "    # some_event = calendar.event_by_uid(some_uid)\n",
    "    print(\"Getting all children from the calendar\")\n",
    "    children = calendar.children()\n",
    "    print(\"Getting all events from the calendar\")\n",
    "    events = calendar.events()\n",
    "    print(\"Getting all todos from the calendar\")\n",
    "    tasks = calendar.todos()\n",
    "    assert len(events) + len(tasks) == len(all_objects)\n",
    "    print(\n",
    "        f\"Found {len(events)} events and {len(tasks)} tasks which is {len(all_objects)}\"\n",
    "    )\n",
    "    assert len(children) == len(all_objects)\n",
    "    print(f\"Found {len(children)} children which is also {len(all_objects)}\")\n",
    "    ## TODO: Some of those should probably be deprecated.\n",
    "    ## children is a good candidate.\n",
    "\n",
    "    ## Tasks can be completed\n",
    "    print(\"Marking a task completed\")\n",
    "    tasks[0].complete()\n",
    "\n",
    "    ## They will then disappear from the task list\n",
    "    print(\"Getting remaining todos\")\n",
    "    assert not calendar.todos()\n",
    "    print(\"There are no todos\")\n",
    "\n",
    "    ## But they are not deleted\n",
    "    assert len(calendar.todos(include_completed=True)) == 1\n",
    "\n",
    "    ## Let's delete it completely\n",
    "    print(\"Deleting it completely\")\n",
    "    tasks[0].delete()\n",
    "\n",
    "    return events_fetched[0]\n",
    "\n",
    "\n",
    "def read_modify_event_demo(event):\n",
    "    \"\"\"This demonstrates how to edit properties in the ical object\n",
    "    and save it back to the calendar.  It takes an event -\n",
    "    caldav.Event - as input.  This event is found through the\n",
    "    `search_calendar_demo`.  The event needs some editing, which will\n",
    "    be done below.  Keep in mind that the differences between an\n",
    "    Event, a Todo and a Journal is small, everything that is done to\n",
    "    he event here could as well be done towards a task.\n",
    "    \"\"\"\n",
    "    ## The objects (events, journals and tasks) comes with some properties that\n",
    "    ## can be used for inspecting the data and modifying it.\n",
    "\n",
    "    ## event.data is the raw data, as a string, with unix linebreaks\n",
    "    print(\"here comes some icalendar data:\")\n",
    "    print(event.data)\n",
    "\n",
    "    ## event.wire_data is the raw data as a byte string with CRLN linebreaks\n",
    "    assert len(event.wire_data) >= len(event.data)\n",
    "\n",
    "    ## Two libraries exists to handle icalendar data - vobject and\n",
    "    ## icalendar.  The caldav library traditionally supported the\n",
    "    ## first one, but icalendar is more popular.\n",
    "\n",
    "    ## Here is an example\n",
    "    ## on how to modify the summary using vobject:\n",
    "    event.vobject_instance.vevent.summary.value = \"norwegian national day celebratiuns\"\n",
    "\n",
    "    ## event.icalendar_instance gives an icalendar instance - which\n",
    "    ## normally would be one icalendar calendar object containing one\n",
    "    ## subcomponent.  Quite often the fourth property,\n",
    "    ## icalendar_component (now available just as .component) is\n",
    "    ## preferable - it gives us the component - but be aware that if\n",
    "    ## the server returns a recurring events with exceptions,\n",
    "    ## event.icalendar_component will ignore all the exceptions.\n",
    "    uid = event.component[\"uid\"]\n",
    "\n",
    "    ## Let's correct that typo using the icalendar library.\n",
    "    event.component[\"summary\"] = event.component[\"summary\"].replace(\n",
    "        \"celebratiuns\", \"celebrations\"\n",
    "    )\n",
    "\n",
    "    ## timestamps (DTSTAMP, DTSTART, DTEND for events, DUE for tasks,\n",
    "    ## etc) can be fetched using the icalendar library like this:\n",
    "    dtstart = event.component.get(\"dtstart\")\n",
    "\n",
    "    ## but, dtstart is not a python datetime - it's a vDatetime from\n",
    "    ## the icalendar package.  If you want it as a python datetime,\n",
    "    ## use the .dt property.  (In this case dtstart is set - and it's\n",
    "    ## pretty much mandatory for events - but the code here is robust\n",
    "    ## enough to handle cases where it's undefined):\n",
    "    dtstart_dt = dtstart and dtstart.dt\n",
    "\n",
    "    ## We can modify it:\n",
    "    if dtstart:\n",
    "        event.component[\"dtstart\"].dt = dtstart.dt + timedelta(seconds=3600)\n",
    "\n",
    "    ## And finally, get the casing correct\n",
    "    event.data = event.data.replace(\"norwegian\", \"Norwegian\")\n",
    "\n",
    "    ## Note that this is not quite thread-safe:\n",
    "    icalendar_component = event.component\n",
    "    ## accessing the data (and setting it) will \"disconnect\" the\n",
    "    ## icalendar_component from the event\n",
    "    event.data = event.data\n",
    "    ## So this will not affect the event anymore:\n",
    "    icalendar_component[\"summary\"] = \"do the needful\"\n",
    "    assert not \"do the needful\" in event.data\n",
    "\n",
    "    ## The mofifications are still only saved locally in memory -\n",
    "    ## let's save it to the server:\n",
    "    event.save()\n",
    "\n",
    "    ## NOTE: always use event.save() for updating events and\n",
    "    ## calendar.save_event(data) for creating a new event.\n",
    "    ## This may break:\n",
    "    # event.save(event.data)\n",
    "    ## ref https://github.com/python-caldav/caldav/issues/153\n",
    "\n",
    "    ## Finally, let's verify that the correct data was saved\n",
    "    calendar = event.parent\n",
    "    same_event = calendar.event_by_uid(uid)\n",
    "    assert same_event.component[\"summary\"] == \"Norwegian national day celebrations\"\n",
    "\n",
    "\n",
    "def calendar_by_url_demo(client, url):\n",
    "    \"\"\"Sometimes one may have a calendar URL.  Sometimes maybe one would\n",
    "    not want to fetch the principal object from the server (it's not\n",
    "    even required to support it by the caldav protocol).\n",
    "    \"\"\"\n",
    "    ## No network traffic will be initiated by this:\n",
    "    calendar = client.calendar(url=url)\n",
    "    ## At the other hand, this will cause network activity:\n",
    "    events = calendar.events()\n",
    "    ## We should still have only one event in the calendar\n",
    "    assert len(events) == 1\n",
    "\n",
    "    event_url = events[0].url\n",
    "\n",
    "    ## there is no similar method for fetching an event through\n",
    "    ## a URL.  One may construct the object like this though:\n",
    "    same_event = caldav.Event(client=client, parent=calendar, url=event_url)\n",
    "\n",
    "    ## That was also done without any network traffic.  To get the same_event\n",
    "    ## populated with data it needs to be loaded:\n",
    "    same_event.load()\n",
    "\n",
    "    assert same_event.data == events[0].data\n",
    "\n"
   ]
  },
  {
   "cell_type": "code",
   "execution_count": 18,
   "id": "468f20c5",
   "metadata": {},
   "outputs": [
    {
     "ename": "TypeError",
     "evalue": "'NoneType' object does not support the context manager protocol",
     "output_type": "error",
     "traceback": [
      "\u001b[31m---------------------------------------------------------------------------\u001b[39m",
      "\u001b[31mTypeError\u001b[39m                                 Traceback (most recent call last)",
      "\u001b[36mCell\u001b[39m\u001b[36m \u001b[39m\u001b[32mIn[18]\u001b[39m\u001b[32m, line 1\u001b[39m\n\u001b[32m----> \u001b[39m\u001b[32m1\u001b[39m \u001b[43mrun_examples\u001b[49m\u001b[43m(\u001b[49m\u001b[43m)\u001b[49m\n",
      "\u001b[36mCell\u001b[39m\u001b[36m \u001b[39m\u001b[32mIn[17]\u001b[39m\u001b[32m, line 42\u001b[39m, in \u001b[36mrun_examples\u001b[39m\u001b[34m()\u001b[39m\n\u001b[32m     32\u001b[39m \u001b[38;5;250m\u001b[39m\u001b[33;03m\"\"\"\u001b[39;00m\n\u001b[32m     33\u001b[39m \u001b[33;03mRun through all the examples, one by one\u001b[39;00m\n\u001b[32m     34\u001b[39m \u001b[33;03m\"\"\"\u001b[39;00m\n\u001b[32m     35\u001b[39m \u001b[38;5;66;03m## We need a client object.\u001b[39;00m\n\u001b[32m     36\u001b[39m \u001b[38;5;66;03m## The client object stores http session information, username, password, etc.\u001b[39;00m\n\u001b[32m     37\u001b[39m \u001b[38;5;66;03m## As of 1.0, Initiating the client object will not cause any server communication,\u001b[39;00m\n\u001b[32m   (...)\u001b[39m\u001b[32m     40\u001b[39m \u001b[38;5;66;03m## and config file.\u001b[39;00m\n\u001b[32m     41\u001b[39m \u001b[38;5;66;03m## The client object can be used as a context manager, like this:\u001b[39;00m\n\u001b[32m---> \u001b[39m\u001b[32m42\u001b[39m \u001b[43m\u001b[49m\u001b[38;5;28;43;01mwith\u001b[39;49;00m\u001b[43m \u001b[49m\u001b[43mget_davclient\u001b[49m\u001b[43m(\u001b[49m\u001b[43m)\u001b[49m\u001b[43m \u001b[49m\u001b[38;5;28;43;01mas\u001b[39;49;00m\u001b[43m \u001b[49m\u001b[43mclient\u001b[49m\u001b[43m:\u001b[49m\n\u001b[32m     43\u001b[39m \u001b[43m    \u001b[49m\u001b[38;5;66;43;03m## Typically the next step is to fetch a principal object.\u001b[39;49;00m\n\u001b[32m     44\u001b[39m \u001b[43m    \u001b[49m\u001b[38;5;66;43;03m## This will cause communication with the server.\u001b[39;49;00m\n\u001b[32m     45\u001b[39m \u001b[43m    \u001b[49m\u001b[38;5;28;43mprint\u001b[39;49m\u001b[43m(\u001b[49m\u001b[33;43m\"\u001b[39;49m\u001b[33;43mConnecting to the caldav server\u001b[39;49m\u001b[33;43m\"\u001b[39;49m\u001b[43m)\u001b[49m\n\u001b[32m     46\u001b[39m \u001b[43m    \u001b[49m\u001b[43mmy_principal\u001b[49m\u001b[43m \u001b[49m\u001b[43m=\u001b[49m\u001b[43m \u001b[49m\u001b[43mclient\u001b[49m\u001b[43m.\u001b[49m\u001b[43mprincipal\u001b[49m\u001b[43m(\u001b[49m\u001b[43m)\u001b[49m\n",
      "\u001b[31mTypeError\u001b[39m: 'NoneType' object does not support the context manager protocol"
     ]
    }
   ],
   "source": [
    "run_examples()"
   ]
  },
  {
   "cell_type": "code",
   "execution_count": null,
   "id": "97c57b19",
   "metadata": {},
   "outputs": [],
   "source": []
  },
  {
   "cell_type": "code",
   "execution_count": 23,
   "id": "3d3fd9eb",
   "metadata": {},
   "outputs": [
    {
     "ename": "TypeError",
     "evalue": "'NoneType' object does not support the context manager protocol",
     "output_type": "error",
     "traceback": [
      "\u001b[31m---------------------------------------------------------------------------\u001b[39m",
      "\u001b[31mTypeError\u001b[39m                                 Traceback (most recent call last)",
      "\u001b[36mCell\u001b[39m\u001b[36m \u001b[39m\u001b[32mIn[23]\u001b[39m\u001b[32m, line 1\u001b[39m\n\u001b[32m----> \u001b[39m\u001b[32m1\u001b[39m \u001b[38;5;28;43;01mwith\u001b[39;49;00m\u001b[43m \u001b[49m\u001b[43mget_davclient\u001b[49m\u001b[43m(\u001b[49m\u001b[43m)\u001b[49m\u001b[43m \u001b[49m\u001b[38;5;28;43;01mas\u001b[39;49;00m\u001b[43m \u001b[49m\u001b[43mclient\u001b[49m\u001b[43m:\u001b[49m\n\u001b[32m      2\u001b[39m \u001b[43m    \u001b[49m\u001b[38;5;66;43;03m## Typically the next step is to fetch a principal object.\u001b[39;49;00m\n\u001b[32m      3\u001b[39m \u001b[43m    \u001b[49m\u001b[38;5;66;43;03m## This will cause communication with the server.\u001b[39;49;00m\n\u001b[32m      4\u001b[39m \u001b[43m    \u001b[49m\u001b[38;5;28;43mprint\u001b[39;49m\u001b[43m(\u001b[49m\u001b[33;43m\"\u001b[39;49m\u001b[33;43mConnecting to the caldav server\u001b[39;49m\u001b[33;43m\"\u001b[39;49m\u001b[43m)\u001b[49m\n\u001b[32m      5\u001b[39m \u001b[43m    \u001b[49m\u001b[43mmy_principal\u001b[49m\u001b[43m \u001b[49m\u001b[43m=\u001b[49m\u001b[43m \u001b[49m\u001b[43mclient\u001b[49m\u001b[43m.\u001b[49m\u001b[43mprincipal\u001b[49m\u001b[43m(\u001b[49m\u001b[43m)\u001b[49m\n",
      "\u001b[31mTypeError\u001b[39m: 'NoneType' object does not support the context manager protocol"
     ]
    }
   ],
   "source": [
    "with get_davclient() as client:\n",
    "    ## Typically the next step is to fetch a principal object.\n",
    "    ## This will cause communication with the server.\n",
    "    print(\"Connecting to the caldav server\")\n",
    "    my_principal = client.principal()\n",
    "\n",
    "    ## The principals calendars can be fetched like this:\n",
    "    calendars = my_principal.calendars()\n",
    "\n",
    "    ## print out some information\n",
    "    print_calendars_demo(calendars)\n",
    "\n",
    "    ## This cleans up from previous runs, if needed:\n",
    "    find_delete_calendar_demo(my_principal, \"Test calendar from caldav examples\")\n",
    "\n",
    "    ## Let's create a new calendar to play with.\n",
    "    ## This may raise an error for multiple reasons:\n",
    "    ## * server may not support it (it's not mandatory in the CalDAV RFC)\n",
    "    ## * principal may not have the permission to create calendars\n",
    "    ## * some cloud providers have a global namespace\n",
    "    my_new_calendar = my_principal.make_calendar(\n",
    "        name=\"Test calendar from caldav examples\"\n",
    "    )\n"
   ]
  }
 ],
 "metadata": {
  "kernelspec": {
   "display_name": "playground-ai",
   "language": "python",
   "name": "python3"
  },
  "language_info": {
   "codemirror_mode": {
    "name": "ipython",
    "version": 3
   },
   "file_extension": ".py",
   "mimetype": "text/x-python",
   "name": "python",
   "nbconvert_exporter": "python",
   "pygments_lexer": "ipython3",
   "version": "3.12.12"
  }
 },
 "nbformat": 4,
 "nbformat_minor": 5
}
